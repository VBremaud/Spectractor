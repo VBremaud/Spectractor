{
 "cells": [
  {
   "cell_type": "markdown",
   "metadata": {},
   "source": [
    "# Extractor tutorial for Pic du Midi Data\n",
    "\n",
    "The goal of this notebook is to demonstrate the capabilities of the Spectractor pipeline (still under construction). This pipeline is designed to extract a spectrum from an image given the coordinate (in pixels) of the object."
   ]
  },
  {
   "cell_type": "markdown",
   "metadata": {},
   "source": [
    "## Import the pipeline"
   ]
  },
  {
   "cell_type": "code",
   "execution_count": 1,
   "metadata": {},
   "outputs": [],
   "source": [
    "%load_ext autoreload\n",
    "%autoreload 2"
   ]
  },
  {
   "cell_type": "code",
   "execution_count": 29,
   "metadata": {},
   "outputs": [],
   "source": [
    "import os\n",
    "import pandas as pd\n",
    "import re"
   ]
  },
  {
   "cell_type": "code",
   "execution_count": 3,
   "metadata": {},
   "outputs": [
    {
     "name": "stdout",
     "output_type": "stream",
     "text": [
      "workbookDir: /Users/dagoret/MacOSX/GitHub/LSST/Spectractor/notebooks\n"
     ]
    }
   ],
   "source": [
    "if not 'workbookDir' in globals():\n",
    "    workbookDir = os.getcwd()\n",
    "print('workbookDir: ' + workbookDir)\n",
    "#os.chdir(workbookDir)  # If you changed the current working dir, this will take you back to the workbook dir."
   ]
  },
  {
   "cell_type": "code",
   "execution_count": 4,
   "metadata": {},
   "outputs": [],
   "source": [
    "import sys\n",
    "sys.path.append(workbookDir)\n",
    "sys.path.append(os.path.dirname(workbookDir))"
   ]
  },
  {
   "cell_type": "code",
   "execution_count": 5,
   "metadata": {},
   "outputs": [],
   "source": [
    "from spectractor import parameters\n",
    "from spectractor.extractor.extractor import Spectractor\n",
    "from spectractor.logbook import LogBook"
   ]
  },
  {
   "cell_type": "markdown",
   "metadata": {},
   "source": [
    "if __name__ == \"__main__\":\n",
    "    from argparse import ArgumentParser\n",
    "\n",
    "    parser = ArgumentParser()\n",
    "    parser.add_argument(dest=\"input\", metavar='path', default=[\"tests/data/reduc_20170605_028.fits\"],\n",
    "                        help=\"Input fits file name. It can be a list separated by spaces, or it can use * as wildcard.\",\n",
    "                        nargs='*')\n",
    "    parser.add_argument(\"-d\", \"--debug\", dest=\"debug\", action=\"store_true\",\n",
    "                        help=\"Enter debug mode (more verbose and plots).\", default=False)\n",
    "    parser.add_argument(\"-v\", \"--verbose\", dest=\"verbose\", action=\"store_true\",\n",
    "                        help=\"Enter verbose (print more stuff).\", default=False)\n",
    "    parser.add_argument(\"-o\", \"--output_directory\", dest=\"output_directory\", default=\"outputs/\",\n",
    "                        help=\"Write results in given output directory (default: ./outputs/).\")\n",
    "    parser.add_argument(\"-l\", \"--logbook\", dest=\"logbook\", default=\"ctiofulllogbook_jun2017_v5.csv\",\n",
    "                        help=\"CSV logbook file. (default: ctiofulllogbook_jun2017_v5.csv).\")\n",
    "    parser.add_argument(\"-c\", \"--config\", dest=\"config\", default=\"config/ctio.ini\",\n",
    "                        help=\"INI config file. (default: config.ctio.ini).\")\n",
    "    args = parser.parse_args()\n"
   ]
  },
  {
   "cell_type": "markdown",
   "metadata": {},
   "source": [
    "# Configuration"
   ]
  },
  {
   "cell_type": "markdown",
   "metadata": {},
   "source": [
    "## Flags"
   ]
  },
  {
   "cell_type": "code",
   "execution_count": 6,
   "metadata": {},
   "outputs": [],
   "source": [
    "parameters.VERBOSE = True\n",
    "parameters.DEBUG = True"
   ]
  },
  {
   "cell_type": "markdown",
   "metadata": {},
   "source": [
    "## Date"
   ]
  },
  {
   "cell_type": "code",
   "execution_count": 7,
   "metadata": {},
   "outputs": [],
   "source": [
    "thedate=\"20190214\"\n",
    "#thedate=\"20190215\""
   ]
  },
  {
   "cell_type": "markdown",
   "metadata": {},
   "source": [
    "## Logbook"
   ]
  },
  {
   "cell_type": "code",
   "execution_count": 8,
   "metadata": {},
   "outputs": [],
   "source": [
    "logbookfilename=\"../simple_logbook_PicDuMidi_\"+thedate+\".csv\"\n",
    "#logbookfilename=\"../ctiofulllogbook_jun2017_v5.csv\" "
   ]
  },
  {
   "cell_type": "code",
   "execution_count": 9,
   "metadata": {},
   "outputs": [],
   "source": [
    "# good for my logbook\n",
    "df=pd.read_csv(logbookfilename,sep=\",\", decimal=\".\", encoding='latin-1', header='infer')"
   ]
  },
  {
   "cell_type": "code",
   "execution_count": 10,
   "metadata": {},
   "outputs": [
    {
     "data": {
      "text/plain": [
       "'T1M_20190215_225550_730_HD116405_Filtre_None_bin1x1.1_red.fit'"
      ]
     },
     "execution_count": 10,
     "metadata": {},
     "output_type": "execute_result"
    }
   ],
   "source": [
    "df.file[0]"
   ]
  },
  {
   "cell_type": "markdown",
   "metadata": {},
   "source": [
    "## Input filename"
   ]
  },
  {
   "cell_type": "code",
   "execution_count": 11,
   "metadata": {},
   "outputs": [],
   "source": [
    "if thedate==\"20190215\":\n",
    "    INPUTDIR=\"/Users/dagoret/DATA/PicDuMidiFev2019/prod_20190215\"\n",
    "else:\n",
    "    INPUTDIR=\"/Users/dagoret/DATA/PicDuMidiFev2019/prod_20190214\""
   ]
  },
  {
   "cell_type": "code",
   "execution_count": 12,
   "metadata": {},
   "outputs": [],
   "source": [
    "if thedate==\"20190215\":\n",
    "    file_name=\"T1M_20190215_225550_730_HD116405_Filtre_None_bin1x1.1_red.fit\"\n",
    "else:\n",
    "    file_name=\"T1M_20190214_234122_495_HD116405-Ronchi_Filtre_None_bin1x1.1_red.fit\"    "
   ]
  },
  {
   "cell_type": "markdown",
   "metadata": {},
   "source": [
    "## Output directory"
   ]
  },
  {
   "cell_type": "code",
   "execution_count": 13,
   "metadata": {},
   "outputs": [],
   "source": [
    "output_directory=\"output\""
   ]
  },
  {
   "cell_type": "markdown",
   "metadata": {},
   "source": [
    "## Config"
   ]
  },
  {
   "cell_type": "code",
   "execution_count": 14,
   "metadata": {},
   "outputs": [],
   "source": [
    "config=\"../config/picdumidi.ini\""
   ]
  },
  {
   "cell_type": "markdown",
   "metadata": {},
   "source": [
    "# Run Logbook"
   ]
  },
  {
   "cell_type": "code",
   "execution_count": 25,
   "metadata": {},
   "outputs": [],
   "source": [
    "df=pd.read_csv(logbookfilename)"
   ]
  },
  {
   "cell_type": "code",
   "execution_count": 26,
   "metadata": {},
   "outputs": [
    {
     "data": {
      "text/html": [
       "<div>\n",
       "<style scoped>\n",
       "    .dataframe tbody tr th:only-of-type {\n",
       "        vertical-align: middle;\n",
       "    }\n",
       "\n",
       "    .dataframe tbody tr th {\n",
       "        vertical-align: top;\n",
       "    }\n",
       "\n",
       "    .dataframe thead th {\n",
       "        text-align: right;\n",
       "    }\n",
       "</style>\n",
       "<table border=\"1\" class=\"dataframe\">\n",
       "  <thead>\n",
       "    <tr style=\"text-align: right;\">\n",
       "      <th></th>\n",
       "      <th>Unnamed: 0</th>\n",
       "      <th>object</th>\n",
       "      <th>disperser</th>\n",
       "      <th>filt</th>\n",
       "      <th>evnum</th>\n",
       "      <th>flat</th>\n",
       "      <th>airmass</th>\n",
       "      <th>date</th>\n",
       "      <th>exposure</th>\n",
       "      <th>gain</th>\n",
       "      <th>RA</th>\n",
       "      <th>DEC</th>\n",
       "      <th>Obj-posXpix</th>\n",
       "      <th>Obj-posYpix</th>\n",
       "      <th>Dx</th>\n",
       "      <th>Dy</th>\n",
       "      <th>skip</th>\n",
       "      <th>file</th>\n",
       "    </tr>\n",
       "  </thead>\n",
       "  <tbody>\n",
       "    <tr>\n",
       "      <th>0</th>\n",
       "      <td>0</td>\n",
       "      <td>HD116405</td>\n",
       "      <td>Holo150PDM19</td>\n",
       "      <td>None</td>\n",
       "      <td>1</td>\n",
       "      <td>FLAT_Filtre_None_bin1x1</td>\n",
       "      <td>1.545876</td>\n",
       "      <td>2019-02-15T22:55:50.730</td>\n",
       "      <td>30.0</td>\n",
       "      <td>4.8</td>\n",
       "      <td>13.379201</td>\n",
       "      <td>44.714975</td>\n",
       "      <td>133.208557</td>\n",
       "      <td>220.874719</td>\n",
       "      <td>50.0</td>\n",
       "      <td>50.0</td>\n",
       "      <td>No</td>\n",
       "      <td>T1M_20190215_225550_730_HD116405_Filtre_None_b...</td>\n",
       "    </tr>\n",
       "    <tr>\n",
       "      <th>1</th>\n",
       "      <td>1</td>\n",
       "      <td>HD116405</td>\n",
       "      <td>Holo150PDM19</td>\n",
       "      <td>None</td>\n",
       "      <td>2</td>\n",
       "      <td>FLAT_Filtre_None_bin1x1</td>\n",
       "      <td>1.542852</td>\n",
       "      <td>2019-02-15T22:56:26.007</td>\n",
       "      <td>30.0</td>\n",
       "      <td>4.8</td>\n",
       "      <td>13.379201</td>\n",
       "      <td>44.714975</td>\n",
       "      <td>133.400674</td>\n",
       "      <td>217.612274</td>\n",
       "      <td>50.0</td>\n",
       "      <td>50.0</td>\n",
       "      <td>No</td>\n",
       "      <td>T1M_20190215_225626_007_HD116405_Filtre_None_b...</td>\n",
       "    </tr>\n",
       "    <tr>\n",
       "      <th>2</th>\n",
       "      <td>2</td>\n",
       "      <td>HD116405</td>\n",
       "      <td>Holo150PDM19</td>\n",
       "      <td>None</td>\n",
       "      <td>3</td>\n",
       "      <td>FLAT_Filtre_None_bin1x1</td>\n",
       "      <td>1.539842</td>\n",
       "      <td>2019-02-15T22:57:01.284</td>\n",
       "      <td>30.0</td>\n",
       "      <td>4.8</td>\n",
       "      <td>13.379201</td>\n",
       "      <td>44.714975</td>\n",
       "      <td>133.268162</td>\n",
       "      <td>217.954960</td>\n",
       "      <td>50.0</td>\n",
       "      <td>50.0</td>\n",
       "      <td>No</td>\n",
       "      <td>T1M_20190215_225701_284_HD116405_Filtre_None_b...</td>\n",
       "    </tr>\n",
       "    <tr>\n",
       "      <th>3</th>\n",
       "      <td>3</td>\n",
       "      <td>HD116405</td>\n",
       "      <td>Holo150PDM19</td>\n",
       "      <td>None</td>\n",
       "      <td>4</td>\n",
       "      <td>FLAT_Filtre_None_bin1x1</td>\n",
       "      <td>1.536846</td>\n",
       "      <td>2019-02-15T22:57:36.562</td>\n",
       "      <td>30.0</td>\n",
       "      <td>4.8</td>\n",
       "      <td>13.379201</td>\n",
       "      <td>44.714975</td>\n",
       "      <td>183.596980</td>\n",
       "      <td>174.983184</td>\n",
       "      <td>50.0</td>\n",
       "      <td>50.0</td>\n",
       "      <td>No</td>\n",
       "      <td>T1M_20190215_225736_562_HD116405_Filtre_None_b...</td>\n",
       "    </tr>\n",
       "    <tr>\n",
       "      <th>4</th>\n",
       "      <td>4</td>\n",
       "      <td>HD116405</td>\n",
       "      <td>Holo150PDM19</td>\n",
       "      <td>None</td>\n",
       "      <td>5</td>\n",
       "      <td>FLAT_Filtre_None_bin1x1</td>\n",
       "      <td>1.533865</td>\n",
       "      <td>2019-02-15T22:58:11.838</td>\n",
       "      <td>30.0</td>\n",
       "      <td>4.8</td>\n",
       "      <td>13.379201</td>\n",
       "      <td>44.714975</td>\n",
       "      <td>180.257505</td>\n",
       "      <td>174.547611</td>\n",
       "      <td>50.0</td>\n",
       "      <td>50.0</td>\n",
       "      <td>No</td>\n",
       "      <td>T1M_20190215_225811_838_HD116405_Filtre_None_b...</td>\n",
       "    </tr>\n",
       "  </tbody>\n",
       "</table>\n",
       "</div>"
      ],
      "text/plain": [
       "   Unnamed: 0    object     disperser  filt  evnum                     flat  \\\n",
       "0           0  HD116405  Holo150PDM19  None      1  FLAT_Filtre_None_bin1x1   \n",
       "1           1  HD116405  Holo150PDM19  None      2  FLAT_Filtre_None_bin1x1   \n",
       "2           2  HD116405  Holo150PDM19  None      3  FLAT_Filtre_None_bin1x1   \n",
       "3           3  HD116405  Holo150PDM19  None      4  FLAT_Filtre_None_bin1x1   \n",
       "4           4  HD116405  Holo150PDM19  None      5  FLAT_Filtre_None_bin1x1   \n",
       "\n",
       "    airmass                     date  exposure  gain         RA        DEC  \\\n",
       "0  1.545876  2019-02-15T22:55:50.730      30.0   4.8  13.379201  44.714975   \n",
       "1  1.542852  2019-02-15T22:56:26.007      30.0   4.8  13.379201  44.714975   \n",
       "2  1.539842  2019-02-15T22:57:01.284      30.0   4.8  13.379201  44.714975   \n",
       "3  1.536846  2019-02-15T22:57:36.562      30.0   4.8  13.379201  44.714975   \n",
       "4  1.533865  2019-02-15T22:58:11.838      30.0   4.8  13.379201  44.714975   \n",
       "\n",
       "   Obj-posXpix  Obj-posYpix    Dx    Dy skip  \\\n",
       "0   133.208557   220.874719  50.0  50.0   No   \n",
       "1   133.400674   217.612274  50.0  50.0   No   \n",
       "2   133.268162   217.954960  50.0  50.0   No   \n",
       "3   183.596980   174.983184  50.0  50.0   No   \n",
       "4   180.257505   174.547611  50.0  50.0   No   \n",
       "\n",
       "                                                file  \n",
       "0  T1M_20190215_225550_730_HD116405_Filtre_None_b...  \n",
       "1  T1M_20190215_225626_007_HD116405_Filtre_None_b...  \n",
       "2  T1M_20190215_225701_284_HD116405_Filtre_None_b...  \n",
       "3  T1M_20190215_225736_562_HD116405_Filtre_None_b...  \n",
       "4  T1M_20190215_225811_838_HD116405_Filtre_None_b...  "
      ]
     },
     "execution_count": 26,
     "metadata": {},
     "output_type": "execute_result"
    }
   ],
   "source": [
    "df.head()"
   ]
  },
  {
   "cell_type": "code",
   "execution_count": 28,
   "metadata": {},
   "outputs": [
    {
     "data": {
      "text/plain": [
       "'T1M_20190215_225550_730_HD116405_Filtre_None_bin1x1.1_red.fit'"
      ]
     },
     "execution_count": 28,
     "metadata": {},
     "output_type": "execute_result"
    }
   ],
   "source": [
    "df.iloc[0][\"file\"]"
   ]
  },
  {
   "cell_type": "code",
   "execution_count": 15,
   "metadata": {},
   "outputs": [],
   "source": [
    "logbook = LogBook(logbookfilename)"
   ]
  },
  {
   "cell_type": "code",
   "execution_count": 16,
   "metadata": {},
   "outputs": [],
   "source": [
    "tag_file=file_name"
   ]
  },
  {
   "cell_type": "code",
   "execution_count": 17,
   "metadata": {},
   "outputs": [],
   "source": [
    "disperser_label, target, xpos, ypos = logbook.search_for_image(tag_file)"
   ]
  },
  {
   "cell_type": "code",
   "execution_count": 18,
   "metadata": {},
   "outputs": [
    {
     "data": {
      "text/plain": [
       "'Holo150PDM19'"
      ]
     },
     "execution_count": 18,
     "metadata": {},
     "output_type": "execute_result"
    }
   ],
   "source": [
    "disperser_label"
   ]
  },
  {
   "cell_type": "code",
   "execution_count": 19,
   "metadata": {},
   "outputs": [
    {
     "data": {
      "text/plain": [
       "'HD116405'"
      ]
     },
     "execution_count": 19,
     "metadata": {},
     "output_type": "execute_result"
    }
   ],
   "source": [
    "target"
   ]
  },
  {
   "cell_type": "code",
   "execution_count": 20,
   "metadata": {},
   "outputs": [
    {
     "data": {
      "text/plain": [
       "(133, 220)"
      ]
     },
     "execution_count": 20,
     "metadata": {},
     "output_type": "execute_result"
    }
   ],
   "source": [
    "xpos,ypos"
   ]
  },
  {
   "cell_type": "code",
   "execution_count": 21,
   "metadata": {},
   "outputs": [],
   "source": [
    "fullfilename=os.path.join(INPUTDIR,file_name)"
   ]
  },
  {
   "cell_type": "code",
   "execution_count": 22,
   "metadata": {},
   "outputs": [
    {
     "data": {
      "text/plain": [
       "'/Users/dagoret/DATA/PicDuMidiFev2019/prod_20190215/T1M_20190215_225550_730_HD116405_Filtre_None_bin1x1.1_red.fit'"
      ]
     },
     "execution_count": 22,
     "metadata": {},
     "output_type": "execute_result"
    }
   ],
   "source": [
    "fullfilename"
   ]
  },
  {
   "cell_type": "code",
   "execution_count": 23,
   "metadata": {},
   "outputs": [],
   "source": [
    "#assert False,\"STOP\" "
   ]
  },
  {
   "cell_type": "markdown",
   "metadata": {},
   "source": [
    "# Run Spectractor"
   ]
  },
  {
   "cell_type": "code",
   "execution_count": 24,
   "metadata": {
    "scrolled": true
   },
   "outputs": [
    {
     "name": "stderr",
     "output_type": "stream",
     "text": [
      "2019-03-26 12:15:17  spectractor.extractor.extractor Spectractor          INFO   \n",
      "\tStart SPECTRACTOR\n",
      "2019-03-26 12:15:17  Image      load_PDM_image       INFO   \n",
      "\tLoading Pic du Midi image /Users/dagoret/DATA/PicDuMidiFev2019/prod_20190215/T1M_20190215_225550_730_HD116405_Filtre_None_bin1x1.1_red.fit...\n",
      "2019-03-26 12:15:17  Image      load_PDM_image       INFO   \n",
      "\tImage loaded\n",
      "2019-03-26 12:15:17  Image      load_LogBook         INFO   \n",
      "\tLoad Logbook  ../simple_logbook_PicDuMidi_20190215.csv for /Users/dagoret/DATA/PicDuMidiFev2019/prod_20190215/T1M_20190215_225550_730_HD116405_Filtre_None_bin1x1.1_red.fit...\n",
      "2019-03-26 12:15:17  Image      load_LogBook         INFO   \n",
      "\tLoad Logbook  : date identified  20190215 for /Users/dagoret/DATA/PicDuMidiFev2019/prod_20190215/T1M_20190215_225550_730_HD116405_Filtre_None_bin1x1.1_red.fit...\n"
     ]
    },
    {
     "name": "stdout",
     "output_type": "stream",
     "text": [
      "Section: paths\n",
      "x holo_dir: extractor/dispersers/\t => parameters.HOLO_DIR: /Users/dagoret/MacOSX/GitHub/LSST/Spectractor/spectractor/extractor/dispersers/\t <class 'str'>\n",
      "x throughput_dir: simulation/CTIOThroughput/\t => parameters.THROUGHPUT_DIR: /Users/dagoret/MacOSX/GitHub/LSST/Spectractor/spectractor/simulation/CTIOThroughput/\t <class 'str'>\n",
      "Section: instrument\n",
      "x obs_name: PICDUMIDI\t => parameters.OBS_NAME: PICDUMIDI\t <class 'str'>\n",
      "x obs_altitude: 2.8905\t => parameters.OBS_ALTITUDE: 2.8905\t <class 'float'>\n",
      "x obs_longitude: 0 08 34.00\t => parameters.OBS_LONGITUDE: 0 08 34.00\t <class 'str'>\n",
      "x obs_latitude: 42 56 11.00\t => parameters.OBS_LATITUDE: 42 56 11.00\t <class 'str'>\n",
      "x obs_diameter: 1.0\t => parameters.OBS_DIAMETER: 1.0 m\t <class 'astropy.units.quantity.Quantity'>\n",
      "x obs_epoch: J2000.0\t => parameters.OBS_EPOCH: J2000.0\t <class 'str'>\n",
      "x obs_transmission_systematics: 0.005\t => parameters.OBS_TRANSMISSION_SYSTEMATICS: 0.005\t <class 'float'>\n",
      "x obs_object_type: STAR\t => parameters.OBS_OBJECT_TYPE: STAR\t <class 'str'>\n",
      "x obs_telescope_transmission: ctio_throughput.txt\t => parameters.OBS_TELESCOPE_TRANSMISSION: ctio_throughput.txt\t <class 'str'>\n",
      "x obs_full_instrument_transmisson: ctio_throughput_300517_v1.txt\t => parameters.OBS_FULL_INSTRUMENT_TRANSMISSON: ctio_throughput_300517_v1.txt\t <class 'str'>\n",
      "x obs_quantum_efficiency: qecurve.txt\t => parameters.OBS_QUANTUM_EFFICIENCY: qecurve.txt\t <class 'str'>\n",
      "Section: CCD\n",
      "x ccd_imsize: 2048\t => parameters.CCD_IMSIZE: 2048\t <class 'int'>\n",
      "x ccd_pixel2mm: 13.5e-3\t => parameters.CCD_PIXEL2MM: 0.0135\t <class 'float'>\n",
      "x ccd_pixel2arcsec: 0.159\t => parameters.CCD_PIXEL2ARCSEC: 0.159\t <class 'float'>\n",
      "x ccd_maxadu: 40000\t => parameters.CCD_MAXADU: 40000\t <class 'int'>\n",
      "x ccd_gain: 4.8\t => parameters.CCD_GAIN: 4.8\t <class 'float'>\n",
      "Section: holograms\n",
      "x distance2ccd: 200.0\t => parameters.DISTANCE2CCD: 200.0\t <class 'float'>\n",
      "x distance2ccd_err: 0.19\t => parameters.DISTANCE2CCD_ERR: 0.19\t <class 'float'>\n",
      "x lambda_constructor: 639e-6\t => parameters.LAMBDA_CONSTRUCTOR: 0.000639\t <class 'float'>\n",
      "x grooves_per_mm: 150\t => parameters.GROOVES_PER_MM: 150\t <class 'int'>\n",
      "x plate_center_shift_x: -6.\t => parameters.PLATE_CENTER_SHIFT_X: -6.0\t <class 'float'>\n",
      "x plate_center_shift_y: -8.\t => parameters.PLATE_CENTER_SHIFT_Y: -8.0\t <class 'float'>\n",
      "x plate_center_shift_x_err: 2.\t => parameters.PLATE_CENTER_SHIFT_X_ERR: 2.0\t <class 'float'>\n",
      "x plate_center_shift_y_err: 2.\t => parameters.PLATE_CENTER_SHIFT_Y_ERR: 2.0\t <class 'float'>\n",
      "Section: search windows\n",
      "x xwindow: 100\t => parameters.XWINDOW: 100\t <class 'int'>\n",
      "x ywindow: 100\t => parameters.YWINDOW: 100\t <class 'int'>\n",
      "x xwindow_rot: 50\t => parameters.XWINDOW_ROT: 50\t <class 'int'>\n",
      "x ywindow_rot: 50\t => parameters.YWINDOW_ROT: 50\t <class 'int'>\n",
      "x pixshift_prior: 2\t => parameters.PIXSHIFT_PRIOR: 2\t <class 'int'>\n",
      "Section: rotation parameters\n",
      "x rot_prefilter: True\t => parameters.ROT_PREFILTER: True\t <class 'bool'>\n",
      "x rot_order: 5\t => parameters.ROT_ORDER: 5\t <class 'int'>\n",
      "Section: spectrum range\n",
      "x lambda_min: 300\t => parameters.LAMBDA_MIN: 300\t <class 'int'>\n",
      "x lambda_max: 1100\t => parameters.LAMBDA_MAX: 1100\t <class 'int'>\n",
      "Section: background subtraction parameters\n",
      "x pixwidth_signal: 10\t => parameters.PIXWIDTH_SIGNAL: 10\t <class 'int'>\n",
      "x pixdist_background: 20\t => parameters.PIXDIST_BACKGROUND: 20\t <class 'int'>\n",
      "x pixwidth_background: 10\t => parameters.PIXWIDTH_BACKGROUND: 10\t <class 'int'>\n",
      "Section: detection line algorithm parameters\n",
      "x calib_bgd_order: 3\t => parameters.CALIB_BGD_ORDER: 3\t <class 'int'>\n",
      "x calib_peak_width: 7\t => parameters.CALIB_PEAK_WIDTH: 7\t <class 'int'>\n",
      "x calib_bgd_width: 10\t => parameters.CALIB_BGD_WIDTH: 10\t <class 'int'>\n",
      "Section: plot settings\n",
      "x paper: False\t => parameters.PAPER: False\t <class 'bool'>\n",
      "x linewidth: 2\t => parameters.LINEWIDTH: 2\t <class 'int'>\n",
      "x plot_dir: plots\t => parameters.PLOT_DIR: plots\t <class 'str'>\n",
      "x save: False\t => parameters.SAVE: False\t <class 'bool'>\n"
     ]
    },
    {
     "ename": "IndexError",
     "evalue": "list index out of range",
     "output_type": "error",
     "traceback": [
      "\u001b[0;31m---------------------------------------------------------------------------\u001b[0m",
      "\u001b[0;31mIndexError\u001b[0m                                Traceback (most recent call last)",
      "\u001b[0;32m<ipython-input-24-2ff341d6b634>\u001b[0m in \u001b[0;36m<module>\u001b[0;34m\u001b[0m\n\u001b[0;32m----> 1\u001b[0;31m \u001b[0mSpectractor\u001b[0m\u001b[0;34m(\u001b[0m\u001b[0mfullfilename\u001b[0m\u001b[0;34m,\u001b[0m\u001b[0moutput_directory\u001b[0m\u001b[0;34m,\u001b[0m \u001b[0;34m[\u001b[0m\u001b[0mxpos\u001b[0m\u001b[0;34m,\u001b[0m \u001b[0mypos\u001b[0m\u001b[0;34m]\u001b[0m\u001b[0;34m,\u001b[0m \u001b[0mtarget\u001b[0m\u001b[0;34m,\u001b[0m \u001b[0mdisperser_label\u001b[0m\u001b[0;34m,\u001b[0m \u001b[0mconfig\u001b[0m\u001b[0;34m,\u001b[0m\u001b[0mlogbook\u001b[0m\u001b[0;34m=\u001b[0m\u001b[0mlogbookfilename\u001b[0m\u001b[0;34m)\u001b[0m\u001b[0;34m\u001b[0m\u001b[0;34m\u001b[0m\u001b[0m\n\u001b[0m",
      "\u001b[0;32m~/MacOSX/GitHub/LSST/Spectractor/spectractor/extractor/extractor.py\u001b[0m in \u001b[0;36mSpectractor\u001b[0;34m(file_name, output_directory, guess, target, disperser_label, config, atmospheric_lines, line_detection, logbook)\u001b[0m\n\u001b[1;32m     57\u001b[0m \u001b[0;34m\u001b[0m\u001b[0m\n\u001b[1;32m     58\u001b[0m     \u001b[0;31m# Load reduced image\u001b[0m\u001b[0;34m\u001b[0m\u001b[0;34m\u001b[0m\u001b[0;34m\u001b[0m\u001b[0m\n\u001b[0;32m---> 59\u001b[0;31m     \u001b[0mimage\u001b[0m \u001b[0;34m=\u001b[0m \u001b[0mImage\u001b[0m\u001b[0;34m(\u001b[0m\u001b[0mfile_name\u001b[0m\u001b[0;34m,\u001b[0m \u001b[0mtarget\u001b[0m\u001b[0;34m=\u001b[0m\u001b[0mtarget\u001b[0m\u001b[0;34m,\u001b[0m \u001b[0mdisperser_label\u001b[0m\u001b[0;34m=\u001b[0m\u001b[0mdisperser_label\u001b[0m\u001b[0;34m,\u001b[0m\u001b[0mlogbook\u001b[0m\u001b[0;34m=\u001b[0m\u001b[0mlogbook\u001b[0m\u001b[0;34m)\u001b[0m\u001b[0;34m\u001b[0m\u001b[0;34m\u001b[0m\u001b[0m\n\u001b[0m\u001b[1;32m     60\u001b[0m \u001b[0;34m\u001b[0m\u001b[0m\n\u001b[1;32m     61\u001b[0m     \u001b[0;32mif\u001b[0m \u001b[0mparameters\u001b[0m\u001b[0;34m.\u001b[0m\u001b[0mDEBUG\u001b[0m\u001b[0;34m:\u001b[0m\u001b[0;34m\u001b[0m\u001b[0;34m\u001b[0m\u001b[0m\n",
      "\u001b[0;32m~/MacOSX/GitHub/LSST/Spectractor/spectractor/extractor/images.py\u001b[0m in \u001b[0;36m__init__\u001b[0;34m(self, file_name, target, disperser_label, logbook)\u001b[0m\n\u001b[1;32m     57\u001b[0m         \u001b[0mself\u001b[0m\u001b[0;34m.\u001b[0m\u001b[0mparallactic_angle\u001b[0m \u001b[0;34m=\u001b[0m \u001b[0;32mNone\u001b[0m\u001b[0;34m\u001b[0m\u001b[0;34m\u001b[0m\u001b[0m\n\u001b[1;32m     58\u001b[0m         \u001b[0mself\u001b[0m\u001b[0;34m.\u001b[0m\u001b[0msaturation\u001b[0m \u001b[0;34m=\u001b[0m \u001b[0;32mNone\u001b[0m\u001b[0;34m\u001b[0m\u001b[0;34m\u001b[0m\u001b[0m\n\u001b[0;32m---> 59\u001b[0;31m         \u001b[0mself\u001b[0m\u001b[0;34m.\u001b[0m\u001b[0mload_image\u001b[0m\u001b[0;34m(\u001b[0m\u001b[0mfile_name\u001b[0m\u001b[0;34m)\u001b[0m\u001b[0;34m\u001b[0m\u001b[0;34m\u001b[0m\u001b[0m\n\u001b[0m\u001b[1;32m     60\u001b[0m         \u001b[0;31m# Load the target if given\u001b[0m\u001b[0;34m\u001b[0m\u001b[0;34m\u001b[0m\u001b[0;34m\u001b[0m\u001b[0m\n\u001b[1;32m     61\u001b[0m         \u001b[0mself\u001b[0m\u001b[0;34m.\u001b[0m\u001b[0mtarget\u001b[0m \u001b[0;34m=\u001b[0m \u001b[0;32mNone\u001b[0m\u001b[0;34m\u001b[0m\u001b[0;34m\u001b[0m\u001b[0m\n",
      "\u001b[0;32m~/MacOSX/GitHub/LSST/Spectractor/spectractor/extractor/images.py\u001b[0m in \u001b[0;36mload_image\u001b[0;34m(self, file_name)\u001b[0m\n\u001b[1;32m     91\u001b[0m             \u001b[0mload_LPNHE_image\u001b[0m\u001b[0;34m(\u001b[0m\u001b[0mself\u001b[0m\u001b[0;34m)\u001b[0m\u001b[0;34m\u001b[0m\u001b[0;34m\u001b[0m\u001b[0m\n\u001b[1;32m     92\u001b[0m         \u001b[0;32melif\u001b[0m \u001b[0mparameters\u001b[0m\u001b[0;34m.\u001b[0m\u001b[0mOBS_NAME\u001b[0m \u001b[0;34m==\u001b[0m \u001b[0;34m'PICDUMIDI'\u001b[0m\u001b[0;34m:\u001b[0m\u001b[0;34m\u001b[0m\u001b[0;34m\u001b[0m\u001b[0m\n\u001b[0;32m---> 93\u001b[0;31m             \u001b[0mload_PDM_image\u001b[0m\u001b[0;34m(\u001b[0m\u001b[0mself\u001b[0m\u001b[0;34m)\u001b[0m\u001b[0;34m\u001b[0m\u001b[0;34m\u001b[0m\u001b[0m\n\u001b[0m\u001b[1;32m     94\u001b[0m \u001b[0;34m\u001b[0m\u001b[0m\n\u001b[1;32m     95\u001b[0m \u001b[0;34m\u001b[0m\u001b[0m\n",
      "\u001b[0;32m~/MacOSX/GitHub/LSST/Spectractor/spectractor/extractor/images.py\u001b[0m in \u001b[0;36mload_PDM_image\u001b[0;34m(image)\u001b[0m\n\u001b[1;32m    352\u001b[0m \u001b[0;34m\u001b[0m\u001b[0m\n\u001b[1;32m    353\u001b[0m     \u001b[0;31m# retrieve RA and DEC from logbook\u001b[0m\u001b[0;34m\u001b[0m\u001b[0;34m\u001b[0m\u001b[0;34m\u001b[0m\u001b[0m\n\u001b[0;32m--> 354\u001b[0;31m     \u001b[0mload_LogBook\u001b[0m\u001b[0;34m(\u001b[0m\u001b[0mimage\u001b[0m\u001b[0;34m)\u001b[0m\u001b[0;34m\u001b[0m\u001b[0;34m\u001b[0m\u001b[0m\n\u001b[0m\u001b[1;32m    355\u001b[0m \u001b[0;34m\u001b[0m\u001b[0m\n\u001b[1;32m    356\u001b[0m     \u001b[0mimage\u001b[0m\u001b[0;34m.\u001b[0m\u001b[0mmy_logger\u001b[0m\u001b[0;34m.\u001b[0m\u001b[0mwarning\u001b[0m\u001b[0;34m(\u001b[0m\u001b[0;34mf'\\n\\tload_PDM_image :: coord: ra = {image.header[\"RA\"]} hour ...'\u001b[0m\u001b[0;34m)\u001b[0m\u001b[0;34m\u001b[0m\u001b[0;34m\u001b[0m\u001b[0m\n",
      "\u001b[0;32m~/MacOSX/GitHub/LSST/Spectractor/spectractor/extractor/images.py\u001b[0m in \u001b[0;36mload_LogBook\u001b[0;34m(image)\u001b[0m\n\u001b[1;32m    409\u001b[0m     \u001b[0mtag_num\u001b[0m\u001b[0;34m=\u001b[0m\u001b[0mre\u001b[0m\u001b[0;34m.\u001b[0m\u001b[0mfindall\u001b[0m\u001b[0;34m(\u001b[0m\u001b[0mSearchTagRe_num\u001b[0m\u001b[0;34m,\u001b[0m \u001b[0mbasefilename\u001b[0m\u001b[0;34m)\u001b[0m\u001b[0;34m[\u001b[0m\u001b[0;36m0\u001b[0m\u001b[0;34m]\u001b[0m\u001b[0;34m\u001b[0m\u001b[0;34m\u001b[0m\u001b[0m\n\u001b[1;32m    410\u001b[0m     \u001b[0mtag_obj\u001b[0m\u001b[0;34m=\u001b[0m\u001b[0mre\u001b[0m\u001b[0;34m.\u001b[0m\u001b[0mfindall\u001b[0m\u001b[0;34m(\u001b[0m\u001b[0mSearchTagRe_obj\u001b[0m\u001b[0;34m,\u001b[0m \u001b[0mbasefilename\u001b[0m\u001b[0;34m)\u001b[0m\u001b[0;34m[\u001b[0m\u001b[0;36m0\u001b[0m\u001b[0;34m]\u001b[0m\u001b[0;34m\u001b[0m\u001b[0;34m\u001b[0m\u001b[0m\n\u001b[0;32m--> 411\u001b[0;31m     \u001b[0mtag_disp\u001b[0m\u001b[0;34m=\u001b[0m\u001b[0mre\u001b[0m\u001b[0;34m.\u001b[0m\u001b[0mfindall\u001b[0m\u001b[0;34m(\u001b[0m\u001b[0mSearchTagRe_disp\u001b[0m\u001b[0;34m,\u001b[0m \u001b[0mbasefilename\u001b[0m\u001b[0;34m)\u001b[0m\u001b[0;34m[\u001b[0m\u001b[0;36m0\u001b[0m\u001b[0;34m]\u001b[0m\u001b[0;34m\u001b[0m\u001b[0;34m\u001b[0m\u001b[0m\n\u001b[0m\u001b[1;32m    412\u001b[0m     \u001b[0mtag_filt\u001b[0m\u001b[0;34m=\u001b[0m\u001b[0mre\u001b[0m\u001b[0;34m.\u001b[0m\u001b[0mfindall\u001b[0m\u001b[0;34m(\u001b[0m\u001b[0mSearchTagRe_filt\u001b[0m\u001b[0;34m,\u001b[0m \u001b[0mbasefilename\u001b[0m\u001b[0;34m)\u001b[0m\u001b[0;34m[\u001b[0m\u001b[0;36m0\u001b[0m\u001b[0;34m]\u001b[0m\u001b[0;34m\u001b[0m\u001b[0;34m\u001b[0m\u001b[0m\n\u001b[1;32m    413\u001b[0m     \u001b[0mtag_evnum\u001b[0m\u001b[0;34m=\u001b[0m\u001b[0mre\u001b[0m\u001b[0;34m.\u001b[0m\u001b[0mfindall\u001b[0m\u001b[0;34m(\u001b[0m\u001b[0mSearchTagRe_evnum\u001b[0m\u001b[0;34m,\u001b[0m \u001b[0mbasefilename\u001b[0m\u001b[0;34m)\u001b[0m\u001b[0;34m[\u001b[0m\u001b[0;36m0\u001b[0m\u001b[0;34m]\u001b[0m\u001b[0;34m\u001b[0m\u001b[0;34m\u001b[0m\u001b[0m\n",
      "\u001b[0;31mIndexError\u001b[0m: list index out of range"
     ]
    }
   ],
   "source": [
    "Spectractor(fullfilename,output_directory, [xpos, ypos], target, disperser_label, config,logbook=logbookfilename)"
   ]
  },
  {
   "cell_type": "code",
   "execution_count": null,
   "metadata": {},
   "outputs": [],
   "source": []
  }
 ],
 "metadata": {
  "kernelspec": {
   "display_name": "Python 3",
   "language": "python",
   "name": "python3"
  },
  "language_info": {
   "codemirror_mode": {
    "name": "ipython",
    "version": 3
   },
   "file_extension": ".py",
   "mimetype": "text/x-python",
   "name": "python",
   "nbconvert_exporter": "python",
   "pygments_lexer": "ipython3",
   "version": "3.6.7"
  },
  "toc": {
   "nav_menu": {},
   "number_sections": true,
   "sideBar": true,
   "skip_h1_title": false,
   "toc_cell": false,
   "toc_position": {},
   "toc_section_display": "block",
   "toc_window_display": false
  }
 },
 "nbformat": 4,
 "nbformat_minor": 2
}
