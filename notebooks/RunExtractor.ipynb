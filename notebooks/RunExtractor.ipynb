{
 "cells": [
  {
   "cell_type": "markdown",
   "metadata": {},
   "source": [
    "# Extractor tutorial for Pic du Midi Data\n",
    "\n",
    "The goal of this notebook is to demonstrate the capabilities of the Spectractor pipeline (still under construction). This pipeline is designed to extract a spectrum from an image given the coordinate (in pixels) of the object.\n",
    "\n",
    "It can be applied to not rotated and pre-rotated reduced images.\n",
    "Normally all the required information has been put by reduction in the image header.\n",
    "However it is possible to retrieve this information from logbook."
   ]
  },
  {
   "cell_type": "markdown",
   "metadata": {},
   "source": [
    "## Import the pipeline"
   ]
  },
  {
   "cell_type": "code",
   "execution_count": 1,
   "metadata": {},
   "outputs": [],
   "source": [
    "%load_ext autoreload\n",
    "%autoreload 2"
   ]
  },
  {
   "cell_type": "code",
   "execution_count": 2,
   "metadata": {},
   "outputs": [],
   "source": [
    "import os\n",
    "import pandas as pd\n",
    "import numpy as np\n",
    "import re"
   ]
  },
  {
   "cell_type": "code",
   "execution_count": 3,
   "metadata": {},
   "outputs": [],
   "source": [
    "pd.set_option('display.max_columns', None)"
   ]
  },
  {
   "cell_type": "code",
   "execution_count": 4,
   "metadata": {},
   "outputs": [
    {
     "name": "stdout",
     "output_type": "stream",
     "text": [
      "workbookDir: /Users/dagoret/MacOSX/GitHub/LSST/Spectractor/notebooks\n"
     ]
    }
   ],
   "source": [
    "if not 'workbookDir' in globals():\n",
    "    workbookDir = os.getcwd()\n",
    "print('workbookDir: ' + workbookDir)\n",
    "#os.chdir(workbookDir)  # If you changed the current working dir, this will take you back to the workbook dir."
   ]
  },
  {
   "cell_type": "code",
   "execution_count": 5,
   "metadata": {},
   "outputs": [],
   "source": [
    "import sys\n",
    "sys.path.append(workbookDir)\n",
    "sys.path.append(os.path.dirname(workbookDir))"
   ]
  },
  {
   "cell_type": "code",
   "execution_count": 6,
   "metadata": {},
   "outputs": [],
   "source": [
    "from spectractor import parameters\n",
    "from spectractor.extractor.extractor import Spectractor\n",
    "from spectractor.logbook import LogBook"
   ]
  },
  {
   "cell_type": "markdown",
   "metadata": {},
   "source": [
    "if __name__ == \"__main__\":\n",
    "    from argparse import ArgumentParser\n",
    "\n",
    "    parser = ArgumentParser()\n",
    "    parser.add_argument(dest=\"input\", metavar='path', default=[\"tests/data/reduc_20170605_028.fits\"],\n",
    "                        help=\"Input fits file name. It can be a list separated by spaces, or it can use * as wildcard.\",\n",
    "                        nargs='*')\n",
    "    parser.add_argument(\"-d\", \"--debug\", dest=\"debug\", action=\"store_true\",\n",
    "                        help=\"Enter debug mode (more verbose and plots).\", default=False)\n",
    "    parser.add_argument(\"-v\", \"--verbose\", dest=\"verbose\", action=\"store_true\",\n",
    "                        help=\"Enter verbose (print more stuff).\", default=False)\n",
    "    parser.add_argument(\"-o\", \"--output_directory\", dest=\"output_directory\", default=\"outputs/\",\n",
    "                        help=\"Write results in given output directory (default: ./outputs/).\")\n",
    "    parser.add_argument(\"-l\", \"--logbook\", dest=\"logbook\", default=\"ctiofulllogbook_jun2017_v5.csv\",\n",
    "                        help=\"CSV logbook file. (default: ctiofulllogbook_jun2017_v5.csv).\")\n",
    "    parser.add_argument(\"-c\", \"--config\", dest=\"config\", default=\"config/ctio.ini\",\n",
    "                        help=\"INI config file. (default: config.ctio.ini).\")\n",
    "    args = parser.parse_args()\n"
   ]
  },
  {
   "cell_type": "markdown",
   "metadata": {},
   "source": [
    "# Configuration"
   ]
  },
  {
   "cell_type": "code",
   "execution_count": 7,
   "metadata": {},
   "outputs": [],
   "source": [
    "FLAG_ROTATION=False"
   ]
  },
  {
   "cell_type": "markdown",
   "metadata": {},
   "source": [
    "## Flags"
   ]
  },
  {
   "cell_type": "code",
   "execution_count": 8,
   "metadata": {},
   "outputs": [],
   "source": [
    "parameters.VERBOSE = True\n",
    "parameters.DEBUG = False"
   ]
  },
  {
   "cell_type": "markdown",
   "metadata": {},
   "source": [
    "## Date"
   ]
  },
  {
   "cell_type": "code",
   "execution_count": 9,
   "metadata": {},
   "outputs": [],
   "source": [
    "#thedate=\"20190214\"\n",
    "thedate=\"20190215\""
   ]
  },
  {
   "cell_type": "code",
   "execution_count": 10,
   "metadata": {},
   "outputs": [
    {
     "name": "stdout",
     "output_type": "stream",
     "text": [
      "../allobs_logbook_PicDuMidi_20190215_v4_filter_None.csv\n",
      "../ctiofulllogbook_jun2017_V2.csv\n",
      "../ctiofulllogbook_jun2017_v4.csv\n",
      "../ctiofulllogbook_jun2017_v5.csv\n",
      "../simple_logbook_PicDuMidi_20190214.csv\n",
      "../simple_logbook_PicDuMidi_20190214_rot_v2.csv\n",
      "../simple_logbook_PicDuMidi_20190214_v2.csv\n",
      "../simple_logbook_PicDuMidi_20190214_v4.csv\n",
      "../simple_logbook_PicDuMidi_20190214_v4_filter_None_marcsel_july19.csv\n",
      "../simple_logbook_PicDuMidi_20190215.csv\n",
      "../simple_logbook_PicDuMidi_20190215_rot_v2.csv\n",
      "../simple_logbook_PicDuMidi_20190215_v2.csv\n",
      "../simple_logbook_PicDuMidi_20190215_v4.csv\n"
     ]
    }
   ],
   "source": [
    "! ls ../*.csv"
   ]
  },
  {
   "cell_type": "markdown",
   "metadata": {},
   "source": [
    "## Logbook"
   ]
  },
  {
   "cell_type": "code",
   "execution_count": 11,
   "metadata": {},
   "outputs": [],
   "source": [
    "#if FLAG_ROTATION:\n",
    "#    logbookfilename=\"../simple_logbook_PicDuMidi_\"+thedate+\"_rot_v2.csv\"\n",
    "#else:\n",
    "#    logbookfilename=\"../simple_logbook_PicDuMidi_\"+thedate+\"_v2.csv\""
   ]
  },
  {
   "cell_type": "code",
   "execution_count": 12,
   "metadata": {},
   "outputs": [],
   "source": [
    "#This above defines the logbbok to be used\n",
    "#------------------------------------\n",
    "if FLAG_ROTATION:\n",
    "    logbookfilename = \"../simple_logbook_PicDuMidi_\" + thedate + \"_rot_v2.csv\"\n",
    "else:\n",
    "    #logbookfilename = \"simple_logbook_PicDuMidi_\" + thedate + \"_v2.csv\"\n",
    "    #logbookfilename = \"simple_logbook_PicDuMidi_\" + thedate + \"_v4.csv\"\n",
    "    logbookfilename = \"../allobs_logbook_PicDuMidi_\" + thedate + \"_v4_filter_None.csv\"\n",
    "    if thedate == \"20190215\":\n",
    "        logbookfilename = \"../allobs_logbook_PicDuMidi_\" + thedate + \"_v4_filter_None.csv\"\n",
    "    else:\n",
    "        logbookfilename = \"../simple_logbook_PicDuMidi_20190214_v4_filter_None_marcsel_july19.csv\""
   ]
  },
  {
   "cell_type": "markdown",
   "metadata": {},
   "source": [
    "### Read the lobook to test"
   ]
  },
  {
   "cell_type": "code",
   "execution_count": 13,
   "metadata": {},
   "outputs": [],
   "source": [
    "# good for my logbook\n",
    "df=pd.read_csv(logbookfilename,sep=\",\", decimal=\".\", encoding='latin-1', header='infer')"
   ]
  },
  {
   "cell_type": "markdown",
   "metadata": {},
   "source": [
    "### For example view the first selected filename for a reduced image "
   ]
  },
  {
   "cell_type": "code",
   "execution_count": 14,
   "metadata": {},
   "outputs": [
    {
     "data": {
      "text/html": [
       "<div>\n",
       "<style scoped>\n",
       "    .dataframe tbody tr th:only-of-type {\n",
       "        vertical-align: middle;\n",
       "    }\n",
       "\n",
       "    .dataframe tbody tr th {\n",
       "        vertical-align: top;\n",
       "    }\n",
       "\n",
       "    .dataframe thead th {\n",
       "        text-align: right;\n",
       "    }\n",
       "</style>\n",
       "<table border=\"1\" class=\"dataframe\">\n",
       "  <thead>\n",
       "    <tr style=\"text-align: right;\">\n",
       "      <th></th>\n",
       "      <th>Unnamed: 0</th>\n",
       "      <th>object</th>\n",
       "      <th>disperser</th>\n",
       "      <th>filt</th>\n",
       "      <th>evnum</th>\n",
       "      <th>flat</th>\n",
       "      <th>airmass</th>\n",
       "      <th>date</th>\n",
       "      <th>exposure</th>\n",
       "      <th>gain</th>\n",
       "      <th>ra</th>\n",
       "      <th>dec</th>\n",
       "      <th>Obj-posXpix</th>\n",
       "      <th>Obj-posYpix</th>\n",
       "      <th>Dx</th>\n",
       "      <th>Dy</th>\n",
       "      <th>skip</th>\n",
       "      <th>file</th>\n",
       "    </tr>\n",
       "  </thead>\n",
       "  <tbody>\n",
       "    <tr>\n",
       "      <td>0</td>\n",
       "      <td>0</td>\n",
       "      <td>HD116405</td>\n",
       "      <td>Holo150PDM19</td>\n",
       "      <td>None</td>\n",
       "      <td>1</td>\n",
       "      <td>FLAT_Filtre_None_bin1x1</td>\n",
       "      <td>1.545961</td>\n",
       "      <td>2019-02-15T22:55:50.730</td>\n",
       "      <td>30.0</td>\n",
       "      <td>4.8</td>\n",
       "      <td>13.379287</td>\n",
       "      <td>44.7106</td>\n",
       "      <td>133.208557</td>\n",
       "      <td>220.877829</td>\n",
       "      <td>50.0</td>\n",
       "      <td>50.0</td>\n",
       "      <td>No</td>\n",
       "      <td>T1M_20190215_225550_730_HD116405_Filtre_None_b...</td>\n",
       "    </tr>\n",
       "    <tr>\n",
       "      <td>1</td>\n",
       "      <td>1</td>\n",
       "      <td>HD116405</td>\n",
       "      <td>Holo150PDM19</td>\n",
       "      <td>None</td>\n",
       "      <td>2</td>\n",
       "      <td>FLAT_Filtre_None_bin1x1</td>\n",
       "      <td>1.542936</td>\n",
       "      <td>2019-02-15T22:56:26.007</td>\n",
       "      <td>30.0</td>\n",
       "      <td>4.8</td>\n",
       "      <td>13.379287</td>\n",
       "      <td>44.7106</td>\n",
       "      <td>133.400674</td>\n",
       "      <td>217.614830</td>\n",
       "      <td>50.0</td>\n",
       "      <td>50.0</td>\n",
       "      <td>No</td>\n",
       "      <td>T1M_20190215_225626_007_HD116405_Filtre_None_b...</td>\n",
       "    </tr>\n",
       "    <tr>\n",
       "      <td>2</td>\n",
       "      <td>2</td>\n",
       "      <td>HD116405</td>\n",
       "      <td>Holo150PDM19</td>\n",
       "      <td>None</td>\n",
       "      <td>3</td>\n",
       "      <td>FLAT_Filtre_None_bin1x1</td>\n",
       "      <td>1.539925</td>\n",
       "      <td>2019-02-15T22:57:01.284</td>\n",
       "      <td>30.0</td>\n",
       "      <td>4.8</td>\n",
       "      <td>13.379287</td>\n",
       "      <td>44.7106</td>\n",
       "      <td>133.268162</td>\n",
       "      <td>217.958401</td>\n",
       "      <td>50.0</td>\n",
       "      <td>50.0</td>\n",
       "      <td>No</td>\n",
       "      <td>T1M_20190215_225701_284_HD116405_Filtre_None_b...</td>\n",
       "    </tr>\n",
       "    <tr>\n",
       "      <td>3</td>\n",
       "      <td>3</td>\n",
       "      <td>HD116405</td>\n",
       "      <td>Holo150PDM19</td>\n",
       "      <td>None</td>\n",
       "      <td>4</td>\n",
       "      <td>FLAT_Filtre_None_bin1x1</td>\n",
       "      <td>1.536929</td>\n",
       "      <td>2019-02-15T22:57:36.562</td>\n",
       "      <td>30.0</td>\n",
       "      <td>4.8</td>\n",
       "      <td>13.379287</td>\n",
       "      <td>44.7106</td>\n",
       "      <td>183.596980</td>\n",
       "      <td>174.986783</td>\n",
       "      <td>50.0</td>\n",
       "      <td>50.0</td>\n",
       "      <td>No</td>\n",
       "      <td>T1M_20190215_225736_562_HD116405_Filtre_None_b...</td>\n",
       "    </tr>\n",
       "    <tr>\n",
       "      <td>4</td>\n",
       "      <td>4</td>\n",
       "      <td>HD116405</td>\n",
       "      <td>Holo150PDM19</td>\n",
       "      <td>None</td>\n",
       "      <td>5</td>\n",
       "      <td>FLAT_Filtre_None_bin1x1</td>\n",
       "      <td>1.533947</td>\n",
       "      <td>2019-02-15T22:58:11.838</td>\n",
       "      <td>30.0</td>\n",
       "      <td>4.8</td>\n",
       "      <td>13.379287</td>\n",
       "      <td>44.7106</td>\n",
       "      <td>180.257505</td>\n",
       "      <td>174.551341</td>\n",
       "      <td>50.0</td>\n",
       "      <td>50.0</td>\n",
       "      <td>No</td>\n",
       "      <td>T1M_20190215_225811_838_HD116405_Filtre_None_b...</td>\n",
       "    </tr>\n",
       "    <tr>\n",
       "      <td>...</td>\n",
       "      <td>...</td>\n",
       "      <td>...</td>\n",
       "      <td>...</td>\n",
       "      <td>...</td>\n",
       "      <td>...</td>\n",
       "      <td>...</td>\n",
       "      <td>...</td>\n",
       "      <td>...</td>\n",
       "      <td>...</td>\n",
       "      <td>...</td>\n",
       "      <td>...</td>\n",
       "      <td>...</td>\n",
       "      <td>...</td>\n",
       "      <td>...</td>\n",
       "      <td>...</td>\n",
       "      <td>...</td>\n",
       "      <td>...</td>\n",
       "      <td>...</td>\n",
       "    </tr>\n",
       "    <tr>\n",
       "      <td>533</td>\n",
       "      <td>533</td>\n",
       "      <td>HD116405</td>\n",
       "      <td>Holo150PDM19</td>\n",
       "      <td>None</td>\n",
       "      <td>455</td>\n",
       "      <td>FLAT_Filtre_None_bin1x1</td>\n",
       "      <td>1.044350</td>\n",
       "      <td>2019-02-16T05:12:03.565</td>\n",
       "      <td>30.0</td>\n",
       "      <td>4.8</td>\n",
       "      <td>13.379287</td>\n",
       "      <td>44.7106</td>\n",
       "      <td>561.098101</td>\n",
       "      <td>248.445783</td>\n",
       "      <td>50.0</td>\n",
       "      <td>50.0</td>\n",
       "      <td>No</td>\n",
       "      <td>T1M_20190216_051203_565_HD116405_Filtre_None_b...</td>\n",
       "    </tr>\n",
       "    <tr>\n",
       "      <td>534</td>\n",
       "      <td>534</td>\n",
       "      <td>HD116405</td>\n",
       "      <td>Holo150PDM19</td>\n",
       "      <td>None</td>\n",
       "      <td>456</td>\n",
       "      <td>FLAT_Filtre_None_bin1x1</td>\n",
       "      <td>1.044928</td>\n",
       "      <td>2019-02-16T05:12:38.844</td>\n",
       "      <td>30.0</td>\n",
       "      <td>4.8</td>\n",
       "      <td>13.379287</td>\n",
       "      <td>44.7106</td>\n",
       "      <td>573.445005</td>\n",
       "      <td>244.149212</td>\n",
       "      <td>50.0</td>\n",
       "      <td>50.0</td>\n",
       "      <td>No</td>\n",
       "      <td>T1M_20190216_051238_844_HD116405_Filtre_None_b...</td>\n",
       "    </tr>\n",
       "    <tr>\n",
       "      <td>535</td>\n",
       "      <td>535</td>\n",
       "      <td>HD116405</td>\n",
       "      <td>Holo150PDM19</td>\n",
       "      <td>None</td>\n",
       "      <td>457</td>\n",
       "      <td>FLAT_Filtre_None_bin1x1</td>\n",
       "      <td>1.045509</td>\n",
       "      <td>2019-02-16T05:13:14.122</td>\n",
       "      <td>30.0</td>\n",
       "      <td>4.8</td>\n",
       "      <td>13.379287</td>\n",
       "      <td>44.7106</td>\n",
       "      <td>583.718836</td>\n",
       "      <td>241.987003</td>\n",
       "      <td>50.0</td>\n",
       "      <td>50.0</td>\n",
       "      <td>No</td>\n",
       "      <td>T1M_20190216_051314_122_HD116405_Filtre_None_b...</td>\n",
       "    </tr>\n",
       "    <tr>\n",
       "      <td>536</td>\n",
       "      <td>536</td>\n",
       "      <td>HD116405</td>\n",
       "      <td>Holo150PDM19</td>\n",
       "      <td>None</td>\n",
       "      <td>458</td>\n",
       "      <td>FLAT_Filtre_None_bin1x1</td>\n",
       "      <td>1.046095</td>\n",
       "      <td>2019-02-16T05:13:49.401</td>\n",
       "      <td>30.0</td>\n",
       "      <td>4.8</td>\n",
       "      <td>13.379287</td>\n",
       "      <td>44.7106</td>\n",
       "      <td>206.135080</td>\n",
       "      <td>225.930582</td>\n",
       "      <td>50.0</td>\n",
       "      <td>50.0</td>\n",
       "      <td>No</td>\n",
       "      <td>T1M_20190216_051349_401_HD116405_Filtre_None_b...</td>\n",
       "    </tr>\n",
       "    <tr>\n",
       "      <td>537</td>\n",
       "      <td>537</td>\n",
       "      <td>HD116405</td>\n",
       "      <td>Holo150PDM19</td>\n",
       "      <td>None</td>\n",
       "      <td>459</td>\n",
       "      <td>FLAT_Filtre_None_bin1x1</td>\n",
       "      <td>1.046685</td>\n",
       "      <td>2019-02-16T05:14:24.679</td>\n",
       "      <td>30.0</td>\n",
       "      <td>4.8</td>\n",
       "      <td>13.379287</td>\n",
       "      <td>44.7106</td>\n",
       "      <td>214.731452</td>\n",
       "      <td>224.980317</td>\n",
       "      <td>50.0</td>\n",
       "      <td>50.0</td>\n",
       "      <td>No</td>\n",
       "      <td>T1M_20190216_051424_679_HD116405_Filtre_None_b...</td>\n",
       "    </tr>\n",
       "  </tbody>\n",
       "</table>\n",
       "<p>538 rows × 18 columns</p>\n",
       "</div>"
      ],
      "text/plain": [
       "     Unnamed: 0    object     disperser  filt  evnum                     flat  \\\n",
       "0             0  HD116405  Holo150PDM19  None      1  FLAT_Filtre_None_bin1x1   \n",
       "1             1  HD116405  Holo150PDM19  None      2  FLAT_Filtre_None_bin1x1   \n",
       "2             2  HD116405  Holo150PDM19  None      3  FLAT_Filtre_None_bin1x1   \n",
       "3             3  HD116405  Holo150PDM19  None      4  FLAT_Filtre_None_bin1x1   \n",
       "4             4  HD116405  Holo150PDM19  None      5  FLAT_Filtre_None_bin1x1   \n",
       "..          ...       ...           ...   ...    ...                      ...   \n",
       "533         533  HD116405  Holo150PDM19  None    455  FLAT_Filtre_None_bin1x1   \n",
       "534         534  HD116405  Holo150PDM19  None    456  FLAT_Filtre_None_bin1x1   \n",
       "535         535  HD116405  Holo150PDM19  None    457  FLAT_Filtre_None_bin1x1   \n",
       "536         536  HD116405  Holo150PDM19  None    458  FLAT_Filtre_None_bin1x1   \n",
       "537         537  HD116405  Holo150PDM19  None    459  FLAT_Filtre_None_bin1x1   \n",
       "\n",
       "      airmass                     date  exposure  gain         ra      dec  \\\n",
       "0    1.545961  2019-02-15T22:55:50.730      30.0   4.8  13.379287  44.7106   \n",
       "1    1.542936  2019-02-15T22:56:26.007      30.0   4.8  13.379287  44.7106   \n",
       "2    1.539925  2019-02-15T22:57:01.284      30.0   4.8  13.379287  44.7106   \n",
       "3    1.536929  2019-02-15T22:57:36.562      30.0   4.8  13.379287  44.7106   \n",
       "4    1.533947  2019-02-15T22:58:11.838      30.0   4.8  13.379287  44.7106   \n",
       "..        ...                      ...       ...   ...        ...      ...   \n",
       "533  1.044350  2019-02-16T05:12:03.565      30.0   4.8  13.379287  44.7106   \n",
       "534  1.044928  2019-02-16T05:12:38.844      30.0   4.8  13.379287  44.7106   \n",
       "535  1.045509  2019-02-16T05:13:14.122      30.0   4.8  13.379287  44.7106   \n",
       "536  1.046095  2019-02-16T05:13:49.401      30.0   4.8  13.379287  44.7106   \n",
       "537  1.046685  2019-02-16T05:14:24.679      30.0   4.8  13.379287  44.7106   \n",
       "\n",
       "     Obj-posXpix  Obj-posYpix    Dx    Dy skip  \\\n",
       "0     133.208557   220.877829  50.0  50.0   No   \n",
       "1     133.400674   217.614830  50.0  50.0   No   \n",
       "2     133.268162   217.958401  50.0  50.0   No   \n",
       "3     183.596980   174.986783  50.0  50.0   No   \n",
       "4     180.257505   174.551341  50.0  50.0   No   \n",
       "..           ...          ...   ...   ...  ...   \n",
       "533   561.098101   248.445783  50.0  50.0   No   \n",
       "534   573.445005   244.149212  50.0  50.0   No   \n",
       "535   583.718836   241.987003  50.0  50.0   No   \n",
       "536   206.135080   225.930582  50.0  50.0   No   \n",
       "537   214.731452   224.980317  50.0  50.0   No   \n",
       "\n",
       "                                                  file  \n",
       "0    T1M_20190215_225550_730_HD116405_Filtre_None_b...  \n",
       "1    T1M_20190215_225626_007_HD116405_Filtre_None_b...  \n",
       "2    T1M_20190215_225701_284_HD116405_Filtre_None_b...  \n",
       "3    T1M_20190215_225736_562_HD116405_Filtre_None_b...  \n",
       "4    T1M_20190215_225811_838_HD116405_Filtre_None_b...  \n",
       "..                                                 ...  \n",
       "533  T1M_20190216_051203_565_HD116405_Filtre_None_b...  \n",
       "534  T1M_20190216_051238_844_HD116405_Filtre_None_b...  \n",
       "535  T1M_20190216_051314_122_HD116405_Filtre_None_b...  \n",
       "536  T1M_20190216_051349_401_HD116405_Filtre_None_b...  \n",
       "537  T1M_20190216_051424_679_HD116405_Filtre_None_b...  \n",
       "\n",
       "[538 rows x 18 columns]"
      ]
     },
     "execution_count": 14,
     "metadata": {},
     "output_type": "execute_result"
    }
   ],
   "source": [
    "df"
   ]
  },
  {
   "cell_type": "markdown",
   "metadata": {},
   "source": [
    "## Input filename"
   ]
  },
  {
   "cell_type": "code",
   "execution_count": 15,
   "metadata": {},
   "outputs": [],
   "source": [
    "if thedate==\"20190215\":\n",
    "    if FLAG_ROTATION:\n",
    "        INPUTDIR=\"/Users/dagoret/DATA/PicDuMidiFev2019/prod_20190215_v5\"\n",
    "    else:\n",
    "        INPUTDIR=\"/Users/dagoret/DATA/PicDuMidiFev2019/prod_20190215_v4\"\n",
    "else:\n",
    "    if FLAG_ROTATION:\n",
    "        INPUTDIR=\"/Users/dagoret/DATA/PicDuMidiFev2019/prod_20190214_v5\"\n",
    "    else:\n",
    "        INPUTDIR=\"/Users/dagoret/DATA/PicDuMidiFev2019/prod_20190214_v4\""
   ]
  },
  {
   "cell_type": "code",
   "execution_count": 16,
   "metadata": {},
   "outputs": [],
   "source": [
    "if thedate==\"20190215\":\n",
    "    if FLAG_ROTATION:\n",
    "        file_name=\"T1M_20190216_013144_582_HD116405_Filtre_None_bin1x1.111_red_rot.fit\"\n",
    "    else:\n",
    "        file_name=\"T1M_20190216_013144_582_HD116405_Filtre_None_bin1x1.111_red.fit\"\n",
    "\n",
    "else:\n",
    "    if FLAG_ROTATION:\n",
    "        file_name=\"T1M_20190214_234122_495_HD116405-Ronchi_Filtre_None_bin1x1.1_red_rot.fit\"\n",
    "    else:\n",
    "        file_name=\"T1M_20190214_234122_495_HD116405-Ronchi_Filtre_None_bin1x1.1_red.fit\""
   ]
  },
  {
   "cell_type": "markdown",
   "metadata": {},
   "source": [
    "## Find the file index in logbook of the file selected above"
   ]
  },
  {
   "cell_type": "code",
   "execution_count": 17,
   "metadata": {},
   "outputs": [],
   "source": [
    "file_index=np.where(df.file.values==file_name)[0][0]"
   ]
  },
  {
   "cell_type": "code",
   "execution_count": 18,
   "metadata": {},
   "outputs": [
    {
     "data": {
      "text/plain": [
       "Unnamed: 0                                                   214\n",
       "object                                                  HD116405\n",
       "disperser                                           Holo150PDM19\n",
       "filt                                                        None\n",
       "evnum                                                        111\n",
       "flat                                     FLAT_Filtre_None_bin1x1\n",
       "airmass                                                  1.08685\n",
       "date                                     2019-02-16T01:31:44.582\n",
       "exposure                                                      30\n",
       "gain                                                         4.8\n",
       "ra                                                       13.3793\n",
       "dec                                                      44.7106\n",
       "Obj-posXpix                                              225.923\n",
       "Obj-posYpix                                              228.914\n",
       "Dx                                                            50\n",
       "Dy                                                            50\n",
       "skip                                                          No\n",
       "file           T1M_20190216_013144_582_HD116405_Filtre_None_b...\n",
       "Name: 214, dtype: object"
      ]
     },
     "execution_count": 18,
     "metadata": {},
     "output_type": "execute_result"
    }
   ],
   "source": [
    "df.iloc[file_index]"
   ]
  },
  {
   "cell_type": "markdown",
   "metadata": {},
   "source": [
    "## Output directory"
   ]
  },
  {
   "cell_type": "code",
   "execution_count": 19,
   "metadata": {},
   "outputs": [],
   "source": [
    "output_directory=\"output/\"+thedate"
   ]
  },
  {
   "cell_type": "markdown",
   "metadata": {},
   "source": [
    "## Config"
   ]
  },
  {
   "cell_type": "code",
   "execution_count": 20,
   "metadata": {},
   "outputs": [],
   "source": [
    "if FLAG_ROTATION:\n",
    "    config=\"../config/picdumidirot.ini\"\n",
    "else:\n",
    "    config=\"../config/picdumidi.ini\""
   ]
  },
  {
   "cell_type": "markdown",
   "metadata": {},
   "source": [
    "# Run Logbook"
   ]
  },
  {
   "cell_type": "code",
   "execution_count": 21,
   "metadata": {},
   "outputs": [],
   "source": [
    "df=pd.read_csv(logbookfilename)"
   ]
  },
  {
   "cell_type": "code",
   "execution_count": 22,
   "metadata": {},
   "outputs": [
    {
     "data": {
      "text/html": [
       "<div>\n",
       "<style scoped>\n",
       "    .dataframe tbody tr th:only-of-type {\n",
       "        vertical-align: middle;\n",
       "    }\n",
       "\n",
       "    .dataframe tbody tr th {\n",
       "        vertical-align: top;\n",
       "    }\n",
       "\n",
       "    .dataframe thead th {\n",
       "        text-align: right;\n",
       "    }\n",
       "</style>\n",
       "<table border=\"1\" class=\"dataframe\">\n",
       "  <thead>\n",
       "    <tr style=\"text-align: right;\">\n",
       "      <th></th>\n",
       "      <th>Unnamed: 0</th>\n",
       "      <th>object</th>\n",
       "      <th>disperser</th>\n",
       "      <th>filt</th>\n",
       "      <th>evnum</th>\n",
       "      <th>flat</th>\n",
       "      <th>airmass</th>\n",
       "      <th>date</th>\n",
       "      <th>exposure</th>\n",
       "      <th>gain</th>\n",
       "      <th>ra</th>\n",
       "      <th>dec</th>\n",
       "      <th>Obj-posXpix</th>\n",
       "      <th>Obj-posYpix</th>\n",
       "      <th>Dx</th>\n",
       "      <th>Dy</th>\n",
       "      <th>skip</th>\n",
       "      <th>file</th>\n",
       "    </tr>\n",
       "  </thead>\n",
       "  <tbody>\n",
       "    <tr>\n",
       "      <td>0</td>\n",
       "      <td>0</td>\n",
       "      <td>HD116405</td>\n",
       "      <td>Holo150PDM19</td>\n",
       "      <td>None</td>\n",
       "      <td>1</td>\n",
       "      <td>FLAT_Filtre_None_bin1x1</td>\n",
       "      <td>1.545961</td>\n",
       "      <td>2019-02-15T22:55:50.730</td>\n",
       "      <td>30.0</td>\n",
       "      <td>4.8</td>\n",
       "      <td>13.379287</td>\n",
       "      <td>44.7106</td>\n",
       "      <td>133.208557</td>\n",
       "      <td>220.877829</td>\n",
       "      <td>50.0</td>\n",
       "      <td>50.0</td>\n",
       "      <td>No</td>\n",
       "      <td>T1M_20190215_225550_730_HD116405_Filtre_None_b...</td>\n",
       "    </tr>\n",
       "    <tr>\n",
       "      <td>1</td>\n",
       "      <td>1</td>\n",
       "      <td>HD116405</td>\n",
       "      <td>Holo150PDM19</td>\n",
       "      <td>None</td>\n",
       "      <td>2</td>\n",
       "      <td>FLAT_Filtre_None_bin1x1</td>\n",
       "      <td>1.542936</td>\n",
       "      <td>2019-02-15T22:56:26.007</td>\n",
       "      <td>30.0</td>\n",
       "      <td>4.8</td>\n",
       "      <td>13.379287</td>\n",
       "      <td>44.7106</td>\n",
       "      <td>133.400674</td>\n",
       "      <td>217.614830</td>\n",
       "      <td>50.0</td>\n",
       "      <td>50.0</td>\n",
       "      <td>No</td>\n",
       "      <td>T1M_20190215_225626_007_HD116405_Filtre_None_b...</td>\n",
       "    </tr>\n",
       "    <tr>\n",
       "      <td>2</td>\n",
       "      <td>2</td>\n",
       "      <td>HD116405</td>\n",
       "      <td>Holo150PDM19</td>\n",
       "      <td>None</td>\n",
       "      <td>3</td>\n",
       "      <td>FLAT_Filtre_None_bin1x1</td>\n",
       "      <td>1.539925</td>\n",
       "      <td>2019-02-15T22:57:01.284</td>\n",
       "      <td>30.0</td>\n",
       "      <td>4.8</td>\n",
       "      <td>13.379287</td>\n",
       "      <td>44.7106</td>\n",
       "      <td>133.268162</td>\n",
       "      <td>217.958401</td>\n",
       "      <td>50.0</td>\n",
       "      <td>50.0</td>\n",
       "      <td>No</td>\n",
       "      <td>T1M_20190215_225701_284_HD116405_Filtre_None_b...</td>\n",
       "    </tr>\n",
       "    <tr>\n",
       "      <td>3</td>\n",
       "      <td>3</td>\n",
       "      <td>HD116405</td>\n",
       "      <td>Holo150PDM19</td>\n",
       "      <td>None</td>\n",
       "      <td>4</td>\n",
       "      <td>FLAT_Filtre_None_bin1x1</td>\n",
       "      <td>1.536929</td>\n",
       "      <td>2019-02-15T22:57:36.562</td>\n",
       "      <td>30.0</td>\n",
       "      <td>4.8</td>\n",
       "      <td>13.379287</td>\n",
       "      <td>44.7106</td>\n",
       "      <td>183.596980</td>\n",
       "      <td>174.986783</td>\n",
       "      <td>50.0</td>\n",
       "      <td>50.0</td>\n",
       "      <td>No</td>\n",
       "      <td>T1M_20190215_225736_562_HD116405_Filtre_None_b...</td>\n",
       "    </tr>\n",
       "    <tr>\n",
       "      <td>4</td>\n",
       "      <td>4</td>\n",
       "      <td>HD116405</td>\n",
       "      <td>Holo150PDM19</td>\n",
       "      <td>None</td>\n",
       "      <td>5</td>\n",
       "      <td>FLAT_Filtre_None_bin1x1</td>\n",
       "      <td>1.533947</td>\n",
       "      <td>2019-02-15T22:58:11.838</td>\n",
       "      <td>30.0</td>\n",
       "      <td>4.8</td>\n",
       "      <td>13.379287</td>\n",
       "      <td>44.7106</td>\n",
       "      <td>180.257505</td>\n",
       "      <td>174.551341</td>\n",
       "      <td>50.0</td>\n",
       "      <td>50.0</td>\n",
       "      <td>No</td>\n",
       "      <td>T1M_20190215_225811_838_HD116405_Filtre_None_b...</td>\n",
       "    </tr>\n",
       "    <tr>\n",
       "      <td>...</td>\n",
       "      <td>...</td>\n",
       "      <td>...</td>\n",
       "      <td>...</td>\n",
       "      <td>...</td>\n",
       "      <td>...</td>\n",
       "      <td>...</td>\n",
       "      <td>...</td>\n",
       "      <td>...</td>\n",
       "      <td>...</td>\n",
       "      <td>...</td>\n",
       "      <td>...</td>\n",
       "      <td>...</td>\n",
       "      <td>...</td>\n",
       "      <td>...</td>\n",
       "      <td>...</td>\n",
       "      <td>...</td>\n",
       "      <td>...</td>\n",
       "      <td>...</td>\n",
       "    </tr>\n",
       "    <tr>\n",
       "      <td>533</td>\n",
       "      <td>533</td>\n",
       "      <td>HD116405</td>\n",
       "      <td>Holo150PDM19</td>\n",
       "      <td>None</td>\n",
       "      <td>455</td>\n",
       "      <td>FLAT_Filtre_None_bin1x1</td>\n",
       "      <td>1.044350</td>\n",
       "      <td>2019-02-16T05:12:03.565</td>\n",
       "      <td>30.0</td>\n",
       "      <td>4.8</td>\n",
       "      <td>13.379287</td>\n",
       "      <td>44.7106</td>\n",
       "      <td>561.098101</td>\n",
       "      <td>248.445783</td>\n",
       "      <td>50.0</td>\n",
       "      <td>50.0</td>\n",
       "      <td>No</td>\n",
       "      <td>T1M_20190216_051203_565_HD116405_Filtre_None_b...</td>\n",
       "    </tr>\n",
       "    <tr>\n",
       "      <td>534</td>\n",
       "      <td>534</td>\n",
       "      <td>HD116405</td>\n",
       "      <td>Holo150PDM19</td>\n",
       "      <td>None</td>\n",
       "      <td>456</td>\n",
       "      <td>FLAT_Filtre_None_bin1x1</td>\n",
       "      <td>1.044928</td>\n",
       "      <td>2019-02-16T05:12:38.844</td>\n",
       "      <td>30.0</td>\n",
       "      <td>4.8</td>\n",
       "      <td>13.379287</td>\n",
       "      <td>44.7106</td>\n",
       "      <td>573.445005</td>\n",
       "      <td>244.149212</td>\n",
       "      <td>50.0</td>\n",
       "      <td>50.0</td>\n",
       "      <td>No</td>\n",
       "      <td>T1M_20190216_051238_844_HD116405_Filtre_None_b...</td>\n",
       "    </tr>\n",
       "    <tr>\n",
       "      <td>535</td>\n",
       "      <td>535</td>\n",
       "      <td>HD116405</td>\n",
       "      <td>Holo150PDM19</td>\n",
       "      <td>None</td>\n",
       "      <td>457</td>\n",
       "      <td>FLAT_Filtre_None_bin1x1</td>\n",
       "      <td>1.045509</td>\n",
       "      <td>2019-02-16T05:13:14.122</td>\n",
       "      <td>30.0</td>\n",
       "      <td>4.8</td>\n",
       "      <td>13.379287</td>\n",
       "      <td>44.7106</td>\n",
       "      <td>583.718836</td>\n",
       "      <td>241.987003</td>\n",
       "      <td>50.0</td>\n",
       "      <td>50.0</td>\n",
       "      <td>No</td>\n",
       "      <td>T1M_20190216_051314_122_HD116405_Filtre_None_b...</td>\n",
       "    </tr>\n",
       "    <tr>\n",
       "      <td>536</td>\n",
       "      <td>536</td>\n",
       "      <td>HD116405</td>\n",
       "      <td>Holo150PDM19</td>\n",
       "      <td>None</td>\n",
       "      <td>458</td>\n",
       "      <td>FLAT_Filtre_None_bin1x1</td>\n",
       "      <td>1.046095</td>\n",
       "      <td>2019-02-16T05:13:49.401</td>\n",
       "      <td>30.0</td>\n",
       "      <td>4.8</td>\n",
       "      <td>13.379287</td>\n",
       "      <td>44.7106</td>\n",
       "      <td>206.135080</td>\n",
       "      <td>225.930582</td>\n",
       "      <td>50.0</td>\n",
       "      <td>50.0</td>\n",
       "      <td>No</td>\n",
       "      <td>T1M_20190216_051349_401_HD116405_Filtre_None_b...</td>\n",
       "    </tr>\n",
       "    <tr>\n",
       "      <td>537</td>\n",
       "      <td>537</td>\n",
       "      <td>HD116405</td>\n",
       "      <td>Holo150PDM19</td>\n",
       "      <td>None</td>\n",
       "      <td>459</td>\n",
       "      <td>FLAT_Filtre_None_bin1x1</td>\n",
       "      <td>1.046685</td>\n",
       "      <td>2019-02-16T05:14:24.679</td>\n",
       "      <td>30.0</td>\n",
       "      <td>4.8</td>\n",
       "      <td>13.379287</td>\n",
       "      <td>44.7106</td>\n",
       "      <td>214.731452</td>\n",
       "      <td>224.980317</td>\n",
       "      <td>50.0</td>\n",
       "      <td>50.0</td>\n",
       "      <td>No</td>\n",
       "      <td>T1M_20190216_051424_679_HD116405_Filtre_None_b...</td>\n",
       "    </tr>\n",
       "  </tbody>\n",
       "</table>\n",
       "<p>538 rows × 18 columns</p>\n",
       "</div>"
      ],
      "text/plain": [
       "     Unnamed: 0    object     disperser  filt  evnum                     flat  \\\n",
       "0             0  HD116405  Holo150PDM19  None      1  FLAT_Filtre_None_bin1x1   \n",
       "1             1  HD116405  Holo150PDM19  None      2  FLAT_Filtre_None_bin1x1   \n",
       "2             2  HD116405  Holo150PDM19  None      3  FLAT_Filtre_None_bin1x1   \n",
       "3             3  HD116405  Holo150PDM19  None      4  FLAT_Filtre_None_bin1x1   \n",
       "4             4  HD116405  Holo150PDM19  None      5  FLAT_Filtre_None_bin1x1   \n",
       "..          ...       ...           ...   ...    ...                      ...   \n",
       "533         533  HD116405  Holo150PDM19  None    455  FLAT_Filtre_None_bin1x1   \n",
       "534         534  HD116405  Holo150PDM19  None    456  FLAT_Filtre_None_bin1x1   \n",
       "535         535  HD116405  Holo150PDM19  None    457  FLAT_Filtre_None_bin1x1   \n",
       "536         536  HD116405  Holo150PDM19  None    458  FLAT_Filtre_None_bin1x1   \n",
       "537         537  HD116405  Holo150PDM19  None    459  FLAT_Filtre_None_bin1x1   \n",
       "\n",
       "      airmass                     date  exposure  gain         ra      dec  \\\n",
       "0    1.545961  2019-02-15T22:55:50.730      30.0   4.8  13.379287  44.7106   \n",
       "1    1.542936  2019-02-15T22:56:26.007      30.0   4.8  13.379287  44.7106   \n",
       "2    1.539925  2019-02-15T22:57:01.284      30.0   4.8  13.379287  44.7106   \n",
       "3    1.536929  2019-02-15T22:57:36.562      30.0   4.8  13.379287  44.7106   \n",
       "4    1.533947  2019-02-15T22:58:11.838      30.0   4.8  13.379287  44.7106   \n",
       "..        ...                      ...       ...   ...        ...      ...   \n",
       "533  1.044350  2019-02-16T05:12:03.565      30.0   4.8  13.379287  44.7106   \n",
       "534  1.044928  2019-02-16T05:12:38.844      30.0   4.8  13.379287  44.7106   \n",
       "535  1.045509  2019-02-16T05:13:14.122      30.0   4.8  13.379287  44.7106   \n",
       "536  1.046095  2019-02-16T05:13:49.401      30.0   4.8  13.379287  44.7106   \n",
       "537  1.046685  2019-02-16T05:14:24.679      30.0   4.8  13.379287  44.7106   \n",
       "\n",
       "     Obj-posXpix  Obj-posYpix    Dx    Dy skip  \\\n",
       "0     133.208557   220.877829  50.0  50.0   No   \n",
       "1     133.400674   217.614830  50.0  50.0   No   \n",
       "2     133.268162   217.958401  50.0  50.0   No   \n",
       "3     183.596980   174.986783  50.0  50.0   No   \n",
       "4     180.257505   174.551341  50.0  50.0   No   \n",
       "..           ...          ...   ...   ...  ...   \n",
       "533   561.098101   248.445783  50.0  50.0   No   \n",
       "534   573.445005   244.149212  50.0  50.0   No   \n",
       "535   583.718836   241.987003  50.0  50.0   No   \n",
       "536   206.135080   225.930582  50.0  50.0   No   \n",
       "537   214.731452   224.980317  50.0  50.0   No   \n",
       "\n",
       "                                                  file  \n",
       "0    T1M_20190215_225550_730_HD116405_Filtre_None_b...  \n",
       "1    T1M_20190215_225626_007_HD116405_Filtre_None_b...  \n",
       "2    T1M_20190215_225701_284_HD116405_Filtre_None_b...  \n",
       "3    T1M_20190215_225736_562_HD116405_Filtre_None_b...  \n",
       "4    T1M_20190215_225811_838_HD116405_Filtre_None_b...  \n",
       "..                                                 ...  \n",
       "533  T1M_20190216_051203_565_HD116405_Filtre_None_b...  \n",
       "534  T1M_20190216_051238_844_HD116405_Filtre_None_b...  \n",
       "535  T1M_20190216_051314_122_HD116405_Filtre_None_b...  \n",
       "536  T1M_20190216_051349_401_HD116405_Filtre_None_b...  \n",
       "537  T1M_20190216_051424_679_HD116405_Filtre_None_b...  \n",
       "\n",
       "[538 rows x 18 columns]"
      ]
     },
     "execution_count": 22,
     "metadata": {},
     "output_type": "execute_result"
    }
   ],
   "source": [
    "df"
   ]
  },
  {
   "cell_type": "code",
   "execution_count": 23,
   "metadata": {},
   "outputs": [
    {
     "data": {
      "text/plain": [
       "'T1M_20190216_013144_582_HD116405_Filtre_None_bin1x1.111_red.fit'"
      ]
     },
     "execution_count": 23,
     "metadata": {},
     "output_type": "execute_result"
    }
   ],
   "source": [
    "df.iloc[file_index][\"file\"]"
   ]
  },
  {
   "cell_type": "code",
   "execution_count": 24,
   "metadata": {},
   "outputs": [],
   "source": [
    "logbook = LogBook(logbookfilename)"
   ]
  },
  {
   "cell_type": "code",
   "execution_count": 25,
   "metadata": {},
   "outputs": [],
   "source": [
    "tag_file=file_name"
   ]
  },
  {
   "cell_type": "code",
   "execution_count": 26,
   "metadata": {},
   "outputs": [],
   "source": [
    "disperser_label, target, xpos, ypos = logbook.search_for_image(tag_file)"
   ]
  },
  {
   "cell_type": "code",
   "execution_count": 27,
   "metadata": {},
   "outputs": [
    {
     "data": {
      "text/plain": [
       "'Holo150PDM19'"
      ]
     },
     "execution_count": 27,
     "metadata": {},
     "output_type": "execute_result"
    }
   ],
   "source": [
    "disperser_label"
   ]
  },
  {
   "cell_type": "code",
   "execution_count": 28,
   "metadata": {},
   "outputs": [
    {
     "data": {
      "text/plain": [
       "'HD116405'"
      ]
     },
     "execution_count": 28,
     "metadata": {},
     "output_type": "execute_result"
    }
   ],
   "source": [
    "target"
   ]
  },
  {
   "cell_type": "code",
   "execution_count": 29,
   "metadata": {},
   "outputs": [
    {
     "data": {
      "text/plain": [
       "(225, 228)"
      ]
     },
     "execution_count": 29,
     "metadata": {},
     "output_type": "execute_result"
    }
   ],
   "source": [
    "xpos,ypos"
   ]
  },
  {
   "cell_type": "code",
   "execution_count": 30,
   "metadata": {},
   "outputs": [],
   "source": [
    "fullfilename=os.path.join(INPUTDIR,file_name)"
   ]
  },
  {
   "cell_type": "code",
   "execution_count": 31,
   "metadata": {},
   "outputs": [
    {
     "data": {
      "text/plain": [
       "'/Users/dagoret/DATA/PicDuMidiFev2019/prod_20190215_v4/T1M_20190216_013144_582_HD116405_Filtre_None_bin1x1.111_red.fit'"
      ]
     },
     "execution_count": 31,
     "metadata": {},
     "output_type": "execute_result"
    }
   ],
   "source": [
    "fullfilename"
   ]
  },
  {
   "cell_type": "markdown",
   "metadata": {},
   "source": [
    "# Run Spectractor"
   ]
  },
  {
   "cell_type": "code",
   "execution_count": 33,
   "metadata": {
    "scrolled": true
   },
   "outputs": [
    {
     "name": "stderr",
     "output_type": "stream",
     "text": [
      "2019-10-17 16:32:01  spectractor.extractor.extractor Spectractor          INFO   \n",
      "\tStart SPECTRACTOR\n",
      "2019-10-17 16:32:01  Image      load_PDM_image       INFO   \n",
      "\tLoading Pic du Midi image /Users/dagoret/DATA/PicDuMidiFev2019/prod_20190215_v4/T1M_20190216_013144_582_HD116405_Filtre_None_bin1x1.111_red.fit...\n",
      "2019-10-17 16:32:02  Image      load_PDM_image       INFO   \n",
      "\tImage loaded\n",
      "2019-10-17 16:32:02  Image      load_LogBook         INFO   \n",
      "\tLoad Logbook  ../allobs_logbook_PicDuMidi_20190215_v4_filter_None.csv for /Users/dagoret/DATA/PicDuMidiFev2019/prod_20190215_v4/T1M_20190216_013144_582_HD116405_Filtre_None_bin1x1.111_red.fit...\n",
      "2019-10-17 16:32:02  Image      load_LogBook         INFO   \n",
      "\tLoad Logbook  : date identified  SEL_DATE=20190215 for imagefile=/Users/dagoret/DATA/PicDuMidiFev2019/prod_20190215_v4/T1M_20190216_013144_582_HD116405_Filtre_None_bin1x1.111_red.fit, FLAG_ROTATION=False...\n",
      "2019-10-17 16:32:02  Image      load_LogBook         WARNING \n",
      "\tLoad Logbook  :  tag_date = 20190216...\n",
      "2019-10-17 16:32:02  Image      load_LogBook         WARNING \n",
      "\tLoad Logbook  :  tag_time = 013144...\n",
      "2019-10-17 16:32:02  Image      load_LogBook         WARNING \n",
      "\tLoad Logbook  :  tag_num = 582...\n",
      "2019-10-17 16:32:02  Image      load_LogBook         WARNING \n",
      "\tLoad Logbook  :  tag_obj = HD116405...\n",
      "2019-10-17 16:32:02  Image      load_LogBook         WARNING \n",
      "\tLoad Logbook  :  tag_disp = HOE...\n",
      "2019-10-17 16:32:02  Image      load_LogBook         WARNING \n",
      "\tLoad Logbook  :  tag_filt = Filtre_None_bin1x1...\n",
      "2019-10-17 16:32:02  Image      load_LogBook         WARNING \n",
      "\tLoad Logbook  :  tag_evnum = 111...\n",
      "2019-10-17 16:32:02  Image      load_LogBook         WARNING \n",
      "\tLoad Logbook  :  selected-row Unnamed: 0                                                   214\n",
      "object                                                  HD116405\n",
      "disperser                                           Holo150PDM19\n",
      "filt                                                        None\n",
      "evnum                                                        111\n",
      "flat                                     FLAT_Filtre_None_bin1x1\n",
      "airmass                                                  1.08685\n",
      "date                                     2019-02-16T01:31:44.582\n",
      "exposure                                                      30\n",
      "gain                                                         4.8\n",
      "ra                                                       13.3793\n",
      "dec                                                      44.7106\n",
      "Obj-posXpix                                              225.923\n",
      "Obj-posYpix                                              228.914\n",
      "Dx                                                            50\n",
      "Dy                                                            50\n",
      "skip                                                          No\n",
      "file           T1M_20190216_013144_582_HD116405_Filtre_None_b...\n",
      "Name: 214, dtype: object...\n",
      "2019-10-17 16:32:02  Image      load_LogBook         WARNING \n",
      "\tLoad Logbook  : RA  = 13.379286666666667 ...\n",
      "2019-10-17 16:32:02  Image      load_LogBook         WARNING \n",
      "\tLoad Logbook  : DEC = 44.7106 ...\n",
      "2019-10-17 16:32:02  Image      load_LogBook         WARNING \n",
      "\tLoad Logbook  : airmass = 1.0868513420599106 ...\n",
      "2019-10-17 16:32:02  Image      load_LogBook         WARNING \n",
      "\tLoad Logbook  : disperser = Holo150PDM19 ...\n",
      "2019-10-17 16:32:02  Image      load_LogBook         WARNING \n",
      "\tLoad Logbook  : filter = None ...\n",
      "2019-10-17 16:32:02  Image      load_LogBook         WARNING \n",
      "\tLoad Logbook : DONE \n",
      "2019-10-17 16:32:02  Image      load_PDM_image       WARNING \n",
      "\tload_PDM_image :: coord: ra = 13.379286666666667 hour ...\n",
      "2019-10-17 16:32:02  Image      load_PDM_image       WARNING \n",
      "\tload_PDM_image :: coord: dec = 44.7106 dec ...\n",
      "2019-10-17 16:32:02  Image      load_PDM_image       WARNING \n",
      "\tload_PDM_image :: date: dec = 2019-02-16T01:31:44.582 ...\n"
     ]
    },
    {
     "name": "stdout",
     "output_type": "stream",
     "text": [
      "Section: paths\n",
      "x holo_dir: extractor/dispersers/\t => parameters.HOLO_DIR: /Users/dagoret/MacOSX/GitHub/LSST/Spectractor/spectractor/extractor/dispersers/\t <class 'str'>\n",
      "x throughput_dir: simulation/CTIOThroughput/\t => parameters.THROUGHPUT_DIR: /Users/dagoret/MacOSX/GitHub/LSST/Spectractor/spectractor/simulation/CTIOThroughput/\t <class 'str'>\n",
      "Section: instrument\n",
      "x obs_name: PICDUMIDI\t => parameters.OBS_NAME: PICDUMIDI\t <class 'str'>\n",
      "x obs_altitude: 2.8905\t => parameters.OBS_ALTITUDE: 2.8905\t <class 'float'>\n",
      "x obs_longitude: 0 08 34.00\t => parameters.OBS_LONGITUDE: 0 08 34.00\t <class 'str'>\n",
      "x obs_latitude: 42 56 11.00\t => parameters.OBS_LATITUDE: 42 56 11.00\t <class 'str'>\n",
      "x obs_diameter: 1.0\t => parameters.OBS_DIAMETER: 1.0 m\t <class 'astropy.units.quantity.Quantity'>\n",
      "x obs_epoch: J2000.0\t => parameters.OBS_EPOCH: J2000.0\t <class 'str'>\n",
      "x obs_transmission_systematics: 0.005\t => parameters.OBS_TRANSMISSION_SYSTEMATICS: 0.005\t <class 'float'>\n",
      "x obs_object_type: STAR\t => parameters.OBS_OBJECT_TYPE: STAR\t <class 'str'>\n",
      "x obs_telescope_transmission: ctio_throughput.txt\t => parameters.OBS_TELESCOPE_TRANSMISSION: ctio_throughput.txt\t <class 'str'>\n",
      "x obs_full_instrument_transmisson: ctio_throughput_300517_v1.txt\t => parameters.OBS_FULL_INSTRUMENT_TRANSMISSON: ctio_throughput_300517_v1.txt\t <class 'str'>\n",
      "x obs_quantum_efficiency: qecurve.txt\t => parameters.OBS_QUANTUM_EFFICIENCY: qecurve.txt\t <class 'str'>\n",
      "Section: CCD\n",
      "x ccd_imsize: 2048\t => parameters.CCD_IMSIZE: 2048\t <class 'int'>\n",
      "x ccd_pixel2mm: 13.5e-3\t => parameters.CCD_PIXEL2MM: 0.0135\t <class 'float'>\n",
      "x ccd_pixel2arcsec: 0.159\t => parameters.CCD_PIXEL2ARCSEC: 0.159\t <class 'float'>\n",
      "x ccd_maxadu: 50000\t => parameters.CCD_MAXADU: 50000\t <class 'int'>\n",
      "x ccd_gain: 4.8\t => parameters.CCD_GAIN: 4.8\t <class 'float'>\n",
      "Section: holograms\n",
      "x distance2ccd: 202.0\t => parameters.DISTANCE2CCD: 202.0\t <class 'float'>\n",
      "x distance2ccd_err: 0.2\t => parameters.DISTANCE2CCD_ERR: 0.2\t <class 'float'>\n",
      "x lambda_constructor: 639e-6\t => parameters.LAMBDA_CONSTRUCTOR: 0.000639\t <class 'float'>\n",
      "x grooves_per_mm: 150\t => parameters.GROOVES_PER_MM: 150\t <class 'int'>\n",
      "x plate_center_shift_x: -6.\t => parameters.PLATE_CENTER_SHIFT_X: -6.0\t <class 'float'>\n",
      "x plate_center_shift_y: -8.\t => parameters.PLATE_CENTER_SHIFT_Y: -8.0\t <class 'float'>\n",
      "x plate_center_shift_x_err: 2.\t => parameters.PLATE_CENTER_SHIFT_X_ERR: 2.0\t <class 'float'>\n",
      "x plate_center_shift_y_err: 2.\t => parameters.PLATE_CENTER_SHIFT_Y_ERR: 2.0\t <class 'float'>\n",
      "Section: search windows\n",
      "x xwindow: 50\t => parameters.XWINDOW: 50\t <class 'int'>\n",
      "x ywindow: 50\t => parameters.YWINDOW: 50\t <class 'int'>\n",
      "x xwindow_rot: 50\t => parameters.XWINDOW_ROT: 50\t <class 'int'>\n",
      "x ywindow_rot: 50\t => parameters.YWINDOW_ROT: 50\t <class 'int'>\n",
      "x pixshift_prior: 5\t => parameters.PIXSHIFT_PRIOR: 5\t <class 'int'>\n",
      "Section: rotation parameters\n",
      "x rot_prefilter: True\t => parameters.ROT_PREFILTER: True\t <class 'bool'>\n",
      "x rot_order: 5\t => parameters.ROT_ORDER: 5\t <class 'int'>\n",
      "Section: spectrum range\n",
      "x lambda_min: 300\t => parameters.LAMBDA_MIN: 300\t <class 'int'>\n",
      "x lambda_max: 1100\t => parameters.LAMBDA_MAX: 1100\t <class 'int'>\n",
      "Section: background subtraction parameters\n",
      "x pixwidth_signal: 10\t => parameters.PIXWIDTH_SIGNAL: 10\t <class 'int'>\n",
      "x pixdist_background: 20\t => parameters.PIXDIST_BACKGROUND: 20\t <class 'int'>\n",
      "x pixwidth_background: 10\t => parameters.PIXWIDTH_BACKGROUND: 10\t <class 'int'>\n",
      "Section: detection line algorithm parameters\n",
      "x calib_bgd_order: 3\t => parameters.CALIB_BGD_ORDER: 3\t <class 'int'>\n",
      "x calib_peak_width: 7\t => parameters.CALIB_PEAK_WIDTH: 7\t <class 'int'>\n",
      "x calib_bgd_width: 10\t => parameters.CALIB_BGD_WIDTH: 10\t <class 'int'>\n",
      "Section: plot settings\n",
      "x paper: False\t => parameters.PAPER: False\t <class 'bool'>\n",
      "x linewidth: 2\t => parameters.LINEWIDTH: 2\t <class 'int'>\n",
      "x plot_dir: plots\t => parameters.PLOT_DIR: plots\t <class 'str'>\n",
      "x save: False\t => parameters.SAVE: False\t <class 'bool'>\n"
     ]
    },
    {
     "name": "stderr",
     "output_type": "stream",
     "text": [
      "2019-10-17 16:32:02  Image      load_PDM_image       INFO   \n",
      "\tImage loaded\n",
      "2019-10-17 16:32:02  Image      load_PDM_image       WARNING \n",
      "\tload_PDM_image :: paralactic angle = -15.461196019701413  ...\n",
      "2019-10-17 16:32:02  Image      load_image           INFO   \n",
      "\tLoading disperser Holo150PDM19...\n"
     ]
    },
    {
     "name": "stdout",
     "output_type": "stream",
     "text": [
      "Load disperser Holo150PDM19:\n",
      "\tfrom /Users/dagoret/MacOSX/GitHub/LSST/Spectractor/spectractor/extractor/dispersers/Holo150PDM19\n",
      "Grating characteristics:\n",
      "\tN = 150.00 +/- 1.14 grooves/mm\n",
      "\tAverage tilt of 45.0 degrees\n"
     ]
    },
    {
     "name": "stderr",
     "output_type": "stream",
     "text": [
      "2019-10-17 16:32:02  Star       load                 INFO   \n",
      "\tSimbad:  MAIN_ID        RA           DEC      RA_PREC ... SP_TYPE SP_QUAL SP_BIBCODE\n",
      "             \"h:m:s\"       \"d:m:s\"            ...                           \n",
      "--------- ------------- ------------- ------- ... ------- ------- ----------\n",
      "HD 116405 13 22 45.1237 +44 42 53.911      14 ...     A0V       C           \n"
     ]
    },
    {
     "name": "stdout",
     "output_type": "stream",
     "text": [
      "Loading /Users/dagoret/MacOSX/External/PySynPhotData/grp/hst/cdbs/calspec/hd116405_stis_003.fits\n",
      "Loading /Users/dagoret/MacOSX/External/PySynPhotData/grp/hst/cdbs/calspec/hd116405_stis_002.fits\n",
      "Loading /Users/dagoret/MacOSX/External/PySynPhotData/grp/hst/cdbs/calspec/hd116405_stis_004.fits\n",
      "Loading /Users/dagoret/MacOSX/External/PySynPhotData/grp/hst/cdbs/calspec/hd116405_stis_001.fits\n"
     ]
    },
    {
     "name": "stderr",
     "output_type": "stream",
     "text": [
      "2019-10-17 16:32:03  spectractor.extractor.extractor Spectractor          INFO   \n",
      "\tSearch for the target in the original image...\n",
      "2019-10-17 16:32:13  spectractor.tools fit_poly2d_outlier_removal INFO   \n",
      "\tModel: Polynomial2D\n",
      "Inputs: ('x', 'y')\n",
      "Outputs: ('z',)\n",
      "Model set size: 1\n",
      "Degree: 2\n",
      "Parameters:\n",
      "           c0_0             c1_0       ...         c1_1        \n",
      "    ----------------- ---------------- ... --------------------\n",
      "    6.997345597322744 0.39940353789606 ... 0.003193907336947999\n",
      "2019-10-17 16:32:16  spectractor.tools fit_poly2d_outlier_removal INFO   \n",
      "\tModel: Polynomial2D\n",
      "Inputs: ('x', 'y')\n",
      "Outputs: ('z',)\n",
      "Model set size: 1\n",
      "Degree: 2\n",
      "Parameters:\n",
      "           c0_0              c1_0       ...        c0_2                c1_1       \n",
      "    ------------------ ---------------- ... ------------------ -------------------\n",
      "    11.978153810592964 9.56620071111994 ... -0.288669213577221 0.16342798121991872\n",
      "2019-10-17 16:32:16  Image      find_target          INFO   \n",
      "\tX,Y target position in pixels: 226.287,230.002\n",
      "2019-10-17 16:32:16  Image      turn_image           INFO   \n",
      "\tturn_image :: width_cut=50...\n",
      "2019-10-17 16:32:16  Image      compute_rotation_angle_hessian INFO   \n",
      "\t compute_rotation_angle_hessian, width_cut=50....,deg_threshold=10......\n",
      "2019-10-17 16:32:16  Image      compute_rotation_angle_hessian INFO   \n",
      "\t compute_rotation_angle_hessian : DO PERFORM rotation for Pic Du Midi !!!! ......\n",
      "2019-10-17 16:32:16  Image      compute_rotation_angle_hessian INFO   \n",
      "\t compute_rotation_angle_hessian, x0 = 226 pix, y0 = 230 pix, theta_disp = 45.0 deg......\n",
      "2019-10-17 16:32:17  Image      compute_rotation_angle_hessian WARNING \n",
      "\tcompute_rotation_angle_hessian :: call hessian_and_theta with margin_cut = 12...\n",
      "2019-10-17 16:32:17  Image      compute_rotation_angle_hessian WARNING \n",
      "\tcompute_rotation_angle_hessian :: hessian_and_theta found lambda_threshold=-93.09242793491893 ...\n",
      "2019-10-17 16:32:17  Image      turn_image           INFO   \n",
      "\tturn_image ::  Rotate the image with angle theta=44.91 degree\n",
      "2019-10-17 16:32:19  spectractor.extractor.extractor Spectractor          INFO   \n",
      "\tSearch for the target in the rotated image...\n",
      "2019-10-17 16:32:21  spectractor.tools fit_poly2d_outlier_removal INFO   \n",
      "\tModel: Polynomial2D\n",
      "Inputs: ('x', 'y')\n",
      "Outputs: ('z',)\n",
      "Model set size: 1\n",
      "Degree: 2\n",
      "Parameters:\n",
      "           c0_0              c1_0        ...         c1_1        \n",
      "    ----------------- ------------------ ... --------------------\n",
      "    4.243992622174845 0.2228410996844653 ... 3.31071378105101e-06\n",
      "2019-10-17 16:32:21  spectractor.tools fit_poly2d_outlier_removal INFO   \n",
      "\tModel: Polynomial2D\n",
      "Inputs: ('x', 'y')\n",
      "Outputs: ('z',)\n",
      "Model set size: 1\n",
      "Degree: 2\n",
      "Parameters:\n",
      "           c0_0               c1_0        ...           c1_1         \n",
      "    ------------------ ------------------ ... -----------------------\n",
      "    -8.179203170379806 2.4642777104946334 ... -0.00032095137272814786\n",
      "2019-10-17 16:32:21  Image      find_target          INFO   \n",
      "\tX,Y target position in pixels: 322.361,1448.247\n",
      "2019-10-17 16:32:21  Spectrum   __init__             INFO   \n",
      "\tSpectrum info copied from image\n",
      "2019-10-17 16:32:21  spectractor.extractor.spectrum extract_spectrum_from_image INFO   \n",
      "\tExtracting spectrum from image: spectrum with width 2*10 pixels and background from 20 to 30 pixels\n",
      "2019-10-17 16:32:21  spectractor.extractor.spectrum extract_spectrum_from_image INFO   \n",
      "\tExtracting spectrum from image: extract_spectrum_from_image : Ny,Nx= 2896, 2791, x0,y0= 322, 1448 and ymin, ymax= 1418, 1478\n",
      "2019-10-17 16:32:21  spectractor.extractor.spectrum extract_spectrum_from_image INFO   \n",
      "\tExtracting spectrum from image: extract_spectrum_from_image : pixel_start = 996 pixel_end = 2790 \n",
      "2019-10-17 16:32:21  spectractor.extractor.spectrum extract_spectrum_from_image INFO   \n",
      "\tExtracting spectrum from image: extract_spectrum_from_image : pixel_start = 996 pixel_end = 2789 \n",
      "2019-10-17 16:32:21  spectractor.extractor.spectrum extract_spectrum_from_image INFO   \n",
      "\tExtract spectrogram: crop rotated image [996:2789,1418:1478] (size (1793, 60))\n",
      "2019-10-17 16:32:26  spectractor.tools fit_poly2d_outlier_removal INFO   \n",
      "\tModel: Polynomial2D\n",
      "Inputs: ('x', 'y')\n",
      "Outputs: ('z',)\n",
      "Model set size: 1\n",
      "Degree: 1\n",
      "Parameters:\n",
      "           c0_0                 c1_0                  c0_1         \n",
      "    ------------------ --------------------- ----------------------\n",
      "    11.548933281550916 0.0009235362525960264 -0.0035136355457649057\n",
      "2019-10-17 16:32:26  spectractor.extractor.spectrum extract_spectrum_from_image INFO   \n",
      "\tStart PSF1D transverse fit...\n",
      "2019-10-17 16:32:26  spectractor.tools fit_moffat1d_outlier_removal INFO   \n",
      "\tModel: Moffat1D\n",
      "Inputs: ('x',)\n",
      "Outputs: ('y',)\n",
      "Model set size: 1\n",
      "Parameters:\n",
      "        amplitude            x_0             gamma             alpha      \n",
      "    ----------------- ----------------- ---------------- -----------------\n",
      "    155.2899356426059 28.39207342604104 5.97011990359929 2.258596071481509\n",
      "2019-10-17 16:32:52  spectractor.extractor.spectrum extract_spectrum_from_image INFO   \n",
      "\tStart ChromaticPSF1D polynomial fit...\n",
      "2019-10-17 16:40:39  spectractor.tools fit_poly2d_outlier_removal INFO   \n",
      "\tModel: Polynomial2D\n",
      "Inputs: ('x', 'y')\n",
      "Outputs: ('z',)\n",
      "Model set size: 1\n",
      "Degree: 1\n",
      "Parameters:\n",
      "           c0_0                 c1_0                  c0_1         \n",
      "    ------------------ --------------------- ----------------------\n",
      "    11.037047231106143 0.0018466201805526872 -0.0003238408723707972\n",
      "2019-10-17 16:40:39  spectractor.extractor.spectrum extract_spectrum_from_image WARNING \n",
      "\tTransverse fit table after derotation:\n",
      "     lambdas             Dx_rot               Dx        \n",
      "------------------ ------------------ ------------------\n",
      " 299.8446320724717  673.6387381315026  477.0855910799089\n",
      " 300.2888600741161  674.6387381315026 477.79381280777926\n",
      "300.73308412264635  675.6387381315026  478.5020345356496\n",
      "301.17730421218045  676.6387381315026    479.21025626352\n",
      " 301.6215203368369  677.6387381315026  479.9184779913904\n",
      " 302.0657324907343  678.6387381315026  480.6266997192607\n",
      "302.50994066799166  679.6387381315026  481.3349214471311\n",
      "  302.954144862728  680.6387381315026  482.0431431750015\n",
      "303.39834506906305  681.6387381315026 482.75136490287184\n",
      " 303.8425412811164  682.6387381315026  483.4595866307422\n",
      "               ...                ...                ...\n",
      "1079.3849818390402 2454.6387381315026  1738.428488417039\n",
      " 1079.813246619134 2455.6387381315026 1739.1367101449093\n",
      "  1080.24149772608 2456.6387381315026 1739.8449318727796\n",
      "1080.6697351550176 2457.6387381315026 1740.5531536006501\n",
      " 1081.097958901086 2458.6387381315026 1741.2613753285204\n",
      " 1081.526168959427 2459.6387381315026 1741.9695970563907\n",
      " 1081.954365325181 2460.6387381315026 1742.6778187842613\n",
      "1082.3825479934912 2461.6387381315026 1743.3860405121316\n",
      "1082.8107169595005 2462.6387381315026 1744.0942622400019\n",
      "1083.2388722183528 2463.6387381315026 1744.8024839678724\n",
      "1083.6670137651927 2464.6387381315026 1745.5107056957427\n",
      "Length = 1792 rows\n",
      "2019-10-17 16:40:39  spectractor.extractor.spectrum extract_spectrum_from_image INFO   \n",
      "\tExtract spectrogram: crop image [703:1972,695:1982] (size (1269, 1287))\n",
      "\tNew target position in spectrogram frame: [-476.7131089098042, -464.99756891237257]\n",
      "2019-10-17 16:40:39  spectractor.extractor.extractor Spectractor          INFO   \n",
      "\tCalibrating order 1 spectrum...\n"
     ]
    },
    {
     "data": {
      "image/png": "[encoded data removed]",
      "text/plain": [
       "<Figure size 432x288 with 2 Axes>"
      ]
     },
     "metadata": {
      "needs_background": "light"
     },
     "output_type": "display_data"
    },
    {
     "name": "stderr",
     "output_type": "stream",
     "text": [
      "2019-10-17 16:41:26  Spectrum   calibrate_spectrum_with_lines INFO   \n",
      "\tOrder0 total shift: 0.50pix\n",
      "\tD = 203.00 mm (default: DISTANCE2CCD = 202.00 +/- 0.20 mm, 5.0 sigma shift)\n",
      "2019-10-17 16:41:26  spectractor.extractor.extractor Spectractor          INFO   \n",
      "\tSave Spectrum in {output_filename}...\n",
      "2019-10-17 16:41:26  spectractor.extractor.extractor Spectractor          INFO   \n",
      "\tSave Spectrogram in {output_filename_spectrogram}...\n",
      "2019-10-17 16:41:26  Spectrum   save_spectrum        INFO   \n",
      "\tSpectrum saved in output/20190215/T1M_20190216_013144_582_HD116405_Filtre_None_bin1x1.111_red_spectrum.fits\n",
      "2019-10-17 16:41:26  Spectrum   save_spectrogram     INFO   \n",
      "\tSpectrogram saved in output/20190215/T1M_20190216_013144_582_HD116405_Filtre_None_bin1x1.111_red_spectrogram.fits\n"
     ]
    },
    {
     "name": "stdout",
     "output_type": "stream",
     "text": [
      "   Line   Tabulated  Detected    Shift    ...   Amplitude       SNR      Chisq  \n",
      "              nm        nm         nm     ...                           reduced \n",
      "--------- --------- --------- ----------- ... -------------- --------- ---------\n",
      "     $Fe$   382.044 384.54224   2.4982412 ... -2.5901783e-12  26.10483 2.2280889\n",
      "$Ca_{II}$   393.366 389.24203   -4.123972 ... -2.0633473e-12 20.795223 2.2280889\n",
      "$Ca_{II}$   396.847 396.68875 -0.15826206 ... -4.1728066e-12  42.05518 2.2280889\n",
      "$H\\delta$     410.2   409.734 -0.46597916 ...  -4.754523e-12 47.917946 2.2280889\n",
      "     $Fe$    430.79  430.1162  -0.6737782 ... -5.6806374e-12 57.251686 2.2280889\n",
      "$H\\gamma$     434.0 433.41803 -0.58197373 ... -6.9223976e-12  69.76663 2.2280889\n",
      "     $Fe$   438.355  439.5652   1.2101879 ... -6.1178263e-12 61.657845 2.2280889\n",
      " $H\\beta$     486.3 484.99954  -1.3004645 ...  -7.847071e-12 74.719154 2.9950652\n",
      "$H\\alpha$     656.3  654.1034  -2.1966057 ... -2.2341885e-12 34.138878  1.846221\n",
      " $O_2(B)$   686.719  686.2439 -0.47510913 ...  -1.079599e-12 18.161057 1.0576298\n",
      "    $O_2$     762.1  759.2568  -2.8432293 ...  -2.210656e-12 44.833748  7.436727\n"
     ]
    },
    {
     "data": {
      "image/png": "[encoded data removed]",
      "text/plain": [
       "<Figure size 864x432 with 1 Axes>"
      ]
     },
     "metadata": {
      "needs_background": "light"
     },
     "output_type": "display_data"
    },
    {
     "data": {
      "text/plain": [
       "<spectractor.extractor.spectrum.Spectrum at 0x7feb71867940>"
      ]
     },
     "execution_count": 33,
     "metadata": {},
     "output_type": "execute_result"
    }
   ],
   "source": [
    "Spectractor(fullfilename,output_directory, [xpos, ypos], target, disperser_label, config,logbook=logbookfilename)"
   ]
  },
  {
   "cell_type": "code",
   "execution_count": null,
   "metadata": {},
   "outputs": [],
   "source": []
  }
 ],
 "metadata": {
  "kernelspec": {
   "display_name": "Python 3",
   "language": "python",
   "name": "python3"
  },
  "language_info": {
   "codemirror_mode": {
    "name": "ipython",
    "version": 3
   },
   "file_extension": ".py",
   "mimetype": "text/x-python",
   "name": "python",
   "nbconvert_exporter": "python",
   "pygments_lexer": "ipython3",
   "version": "3.7.3"
  },
  "toc": {
   "nav_menu": {},
   "number_sections": true,
   "sideBar": true,
   "skip_h1_title": false,
   "toc_cell": false,
   "toc_position": {},
   "toc_section_display": "block",
   "toc_window_display": false
  }
 },
 "nbformat": 4,
 "nbformat_minor": 4
}
