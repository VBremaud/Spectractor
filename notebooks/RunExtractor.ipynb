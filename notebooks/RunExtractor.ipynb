{
 "cells": [
  {
   "cell_type": "markdown",
   "metadata": {},
   "source": [
    "# Extractor tutorial for Pic du Midi Data\n",
    "\n",
    "The goal of this notebook is to demonstrate the capabilities of the Spectractor pipeline (still under construction). This pipeline is designed to extract a spectrum from an image given the coordinate (in pixels) of the object."
   ]
  },
  {
   "cell_type": "markdown",
   "metadata": {},
   "source": [
    "## Import the pipeline"
   ]
  },
  {
   "cell_type": "code",
   "execution_count": 1,
   "metadata": {},
   "outputs": [],
   "source": [
    "%load_ext autoreload\n",
    "%autoreload 2"
   ]
  },
  {
   "cell_type": "code",
   "execution_count": 2,
   "metadata": {},
   "outputs": [],
   "source": [
    "import os\n",
    "import pandas as pd"
   ]
  },
  {
   "cell_type": "code",
   "execution_count": 3,
   "metadata": {},
   "outputs": [
    {
     "name": "stdout",
     "output_type": "stream",
     "text": [
      "workbookDir: /Users/dagoret/MacOSX/GitHub/LSST/Spectractor/notebooks\n"
     ]
    }
   ],
   "source": [
    "if not 'workbookDir' in globals():\n",
    "    workbookDir = os.getcwd()\n",
    "print('workbookDir: ' + workbookDir)\n",
    "#os.chdir(workbookDir)  # If you changed the current working dir, this will take you back to the workbook dir."
   ]
  },
  {
   "cell_type": "code",
   "execution_count": 4,
   "metadata": {},
   "outputs": [],
   "source": [
    "import sys\n",
    "sys.path.append(workbookDir)\n",
    "sys.path.append(os.path.dirname(workbookDir))"
   ]
  },
  {
   "cell_type": "code",
   "execution_count": 5,
   "metadata": {},
   "outputs": [],
   "source": [
    "from spectractor import parameters\n",
    "from spectractor.extractor.extractor import Spectractor\n",
    "from spectractor.logbook import LogBook"
   ]
  },
  {
   "cell_type": "markdown",
   "metadata": {},
   "source": [
    "if __name__ == \"__main__\":\n",
    "    from argparse import ArgumentParser\n",
    "\n",
    "    parser = ArgumentParser()\n",
    "    parser.add_argument(dest=\"input\", metavar='path', default=[\"tests/data/reduc_20170605_028.fits\"],\n",
    "                        help=\"Input fits file name. It can be a list separated by spaces, or it can use * as wildcard.\",\n",
    "                        nargs='*')\n",
    "    parser.add_argument(\"-d\", \"--debug\", dest=\"debug\", action=\"store_true\",\n",
    "                        help=\"Enter debug mode (more verbose and plots).\", default=False)\n",
    "    parser.add_argument(\"-v\", \"--verbose\", dest=\"verbose\", action=\"store_true\",\n",
    "                        help=\"Enter verbose (print more stuff).\", default=False)\n",
    "    parser.add_argument(\"-o\", \"--output_directory\", dest=\"output_directory\", default=\"outputs/\",\n",
    "                        help=\"Write results in given output directory (default: ./outputs/).\")\n",
    "    parser.add_argument(\"-l\", \"--logbook\", dest=\"logbook\", default=\"ctiofulllogbook_jun2017_v5.csv\",\n",
    "                        help=\"CSV logbook file. (default: ctiofulllogbook_jun2017_v5.csv).\")\n",
    "    parser.add_argument(\"-c\", \"--config\", dest=\"config\", default=\"config/ctio.ini\",\n",
    "                        help=\"INI config file. (default: config.ctio.ini).\")\n",
    "    args = parser.parse_args()\n"
   ]
  },
  {
   "cell_type": "markdown",
   "metadata": {},
   "source": [
    "# Configuration"
   ]
  },
  {
   "cell_type": "markdown",
   "metadata": {},
   "source": [
    "## Flags"
   ]
  },
  {
   "cell_type": "code",
   "execution_count": 6,
   "metadata": {},
   "outputs": [],
   "source": [
    "parameters.VERBOSE = True\n",
    "parameters.DEBUG = False"
   ]
  },
  {
   "cell_type": "markdown",
   "metadata": {},
   "source": [
    "## Date"
   ]
  },
  {
   "cell_type": "code",
   "execution_count": 7,
   "metadata": {},
   "outputs": [],
   "source": [
    "thedate=\"20190214\""
   ]
  },
  {
   "cell_type": "markdown",
   "metadata": {},
   "source": [
    "## Logbook"
   ]
  },
  {
   "cell_type": "code",
   "execution_count": 8,
   "metadata": {},
   "outputs": [],
   "source": [
    "logbookfilename=\"../simple_logbook_PicDuMidi_\"+thedate+\".csv\"\n",
    "#logbookfilename=\"../ctiofulllogbook_jun2017_v5.csv\" "
   ]
  },
  {
   "cell_type": "code",
   "execution_count": 9,
   "metadata": {},
   "outputs": [],
   "source": [
    "# good for my logbook\n",
    "df=pd.read_csv(logbookfilename,sep=\",\", decimal=\".\", encoding='latin-1', header='infer')"
   ]
  },
  {
   "cell_type": "code",
   "execution_count": 10,
   "metadata": {},
   "outputs": [
    {
     "data": {
      "text/plain": [
       "'T1M_20190214_234122_495_HD116405-Ronchi_Filtre_None_bin1x1.1_red.fit'"
      ]
     },
     "execution_count": 10,
     "metadata": {},
     "output_type": "execute_result"
    }
   ],
   "source": [
    "df.file[0]"
   ]
  },
  {
   "cell_type": "markdown",
   "metadata": {},
   "source": [
    "## Input filename"
   ]
  },
  {
   "cell_type": "code",
   "execution_count": 11,
   "metadata": {},
   "outputs": [],
   "source": [
    "if thedate==\"20190215\":\n",
    "    INPUTDIR=\"/Users/dagoret/DATA/PicDuMidiFev2019/prod_20190215\"\n",
    "else:\n",
    "    INPUTDIR=\"/Users/dagoret/DATA/PicDuMidiFev2019/prod_20190214\""
   ]
  },
  {
   "cell_type": "code",
   "execution_count": 12,
   "metadata": {},
   "outputs": [],
   "source": [
    "if thedate==\"20190215\":\n",
    "    file_name=\"T1M_20190215_225550_730_HD116405_Filtre_None_bin1x1.1_red.fit\"\n",
    "else:\n",
    "    file_name=\"T1M_20190214_234122_495_HD116405-Ronchi_Filtre_None_bin1x1.1_red.fit\"    "
   ]
  },
  {
   "cell_type": "markdown",
   "metadata": {},
   "source": [
    "## Output directory"
   ]
  },
  {
   "cell_type": "code",
   "execution_count": 13,
   "metadata": {},
   "outputs": [],
   "source": [
    "output_directory=\"output\""
   ]
  },
  {
   "cell_type": "markdown",
   "metadata": {},
   "source": [
    "## Config"
   ]
  },
  {
   "cell_type": "code",
   "execution_count": 14,
   "metadata": {},
   "outputs": [],
   "source": [
    "config=\"../config/picdumidi.ini\""
   ]
  },
  {
   "cell_type": "markdown",
   "metadata": {},
   "source": [
    "# Run Logbook"
   ]
  },
  {
   "cell_type": "code",
   "execution_count": 15,
   "metadata": {},
   "outputs": [],
   "source": [
    "logbook = LogBook(logbookfilename)"
   ]
  },
  {
   "cell_type": "code",
   "execution_count": 16,
   "metadata": {},
   "outputs": [],
   "source": [
    "tag_file=file_name"
   ]
  },
  {
   "cell_type": "code",
   "execution_count": 17,
   "metadata": {},
   "outputs": [],
   "source": [
    "disperser_label, target, xpos, ypos = logbook.search_for_image(tag_file)"
   ]
  },
  {
   "cell_type": "code",
   "execution_count": 18,
   "metadata": {},
   "outputs": [
    {
     "data": {
      "text/plain": [
       "'Ron145PDM19'"
      ]
     },
     "execution_count": 18,
     "metadata": {},
     "output_type": "execute_result"
    }
   ],
   "source": [
    "disperser_label"
   ]
  },
  {
   "cell_type": "code",
   "execution_count": 19,
   "metadata": {},
   "outputs": [
    {
     "data": {
      "text/plain": [
       "'HD116405'"
      ]
     },
     "execution_count": 19,
     "metadata": {},
     "output_type": "execute_result"
    }
   ],
   "source": [
    "target"
   ]
  },
  {
   "cell_type": "code",
   "execution_count": 20,
   "metadata": {},
   "outputs": [
    {
     "data": {
      "text/plain": [
       "(205, 183)"
      ]
     },
     "execution_count": 20,
     "metadata": {},
     "output_type": "execute_result"
    }
   ],
   "source": [
    "xpos,ypos"
   ]
  },
  {
   "cell_type": "code",
   "execution_count": 21,
   "metadata": {},
   "outputs": [],
   "source": [
    "fullfilename=os.path.join(INPUTDIR,file_name)"
   ]
  },
  {
   "cell_type": "code",
   "execution_count": 22,
   "metadata": {},
   "outputs": [
    {
     "data": {
      "text/plain": [
       "'/Users/dagoret/DATA/PicDuMidiFev2019/prod_20190214/T1M_20190214_234122_495_HD116405-Ronchi_Filtre_None_bin1x1.1_red.fit'"
      ]
     },
     "execution_count": 22,
     "metadata": {},
     "output_type": "execute_result"
    }
   ],
   "source": [
    "fullfilename"
   ]
  },
  {
   "cell_type": "code",
   "execution_count": 23,
   "metadata": {},
   "outputs": [],
   "source": [
    "#assert False,\"STOP\" "
   ]
  },
  {
   "cell_type": "markdown",
   "metadata": {},
   "source": [
    "# Run Spectractor"
   ]
  },
  {
   "cell_type": "code",
   "execution_count": 24,
   "metadata": {
    "scrolled": true
   },
   "outputs": [
    {
     "name": "stderr",
     "output_type": "stream",
     "text": [
      "2019-03-22 20:29:18  spectractor.extractor.extractor Spectractor          INFO   \n",
      "\tStart SPECTRACTOR\n",
      "2019-03-22 20:29:18  Image      load_PDM_image       INFO   \n",
      "\tLoading Pic du Midi image /Users/dagoret/DATA/PicDuMidiFev2019/prod_20190214/T1M_20190214_234122_495_HD116405-Ronchi_Filtre_None_bin1x1.1_red.fit...\n",
      "2019-03-22 20:29:18  Image      load_PDM_image       INFO   \n",
      "\tImage loaded\n",
      "2019-03-22 20:29:18  Image      load_LogBook         INFO   \n",
      "\tLoad Logbook  ../simple_logbook_PicDuMidi_20190214.csv for /Users/dagoret/DATA/PicDuMidiFev2019/prod_20190214/T1M_20190214_234122_495_HD116405-Ronchi_Filtre_None_bin1x1.1_red.fit...\n",
      "2019-03-22 20:29:18  Image      load_LogBook         INFO   \n",
      "\tLoad Logbook  : date identified  20190214 for /Users/dagoret/DATA/PicDuMidiFev2019/prod_20190214/T1M_20190214_234122_495_HD116405-Ronchi_Filtre_None_bin1x1.1_red.fit...\n",
      "2019-03-22 20:29:18  Image      load_LogBook         WARNING \n",
      "\tLoad Logbook  :  tag_date = 20190214...\n",
      "2019-03-22 20:29:18  Image      load_LogBook         WARNING \n",
      "\tLoad Logbook  :  tag_time = 234122...\n",
      "2019-03-22 20:29:18  Image      load_LogBook         WARNING \n",
      "\tLoad Logbook  :  tag_num = 495...\n",
      "2019-03-22 20:29:18  Image      load_LogBook         WARNING \n",
      "\tLoad Logbook  :  tag_obj = HD116405...\n",
      "2019-03-22 20:29:18  Image      load_LogBook         WARNING \n",
      "\tLoad Logbook  :  tag_disp = Ronchi...\n",
      "2019-03-22 20:29:18  Image      load_LogBook         WARNING \n",
      "\tLoad Logbook  :  tag_filt = Filtre_None_bin1x1...\n",
      "2019-03-22 20:29:18  Image      load_LogBook         WARNING \n",
      "\tLoad Logbook  :  tag_evnum = 1...\n",
      "2019-03-22 20:29:18  Image      load_LogBook         WARNING \n",
      "\tLoad Logbook  :  selected-row Unnamed: 0                                                     0\n",
      "object                                                  HD116405\n",
      "disperser                                            Ron145PDM19\n",
      "filt                                                        None\n",
      "evnum                                                          1\n",
      "flat                                     FLAT_Filtre_None_bin1x1\n",
      "airmass                                                  1.36358\n",
      "date                                  2019-02-14T23:41:22.495856\n",
      "exposure                                                       4\n",
      "gain                                                         4.8\n",
      "RA                                                       13.3792\n",
      "DEC                                                       44.715\n",
      "Obj-posXpix                                              205.779\n",
      "Obj-posYpix                                              183.345\n",
      "Dx                                                            50\n",
      "Dy                                                            50\n",
      "skip                                                          No\n",
      "file           T1M_20190214_234122_495_HD116405-Ronchi_Filtre...\n",
      "Name: 0, dtype: object...\n",
      "2019-03-22 20:29:18  Image      load_LogBook         WARNING \n",
      "\tLoad Logbook  : RA  = 13.379201048884035 ...\n",
      "2019-03-22 20:29:18  Image      load_LogBook         WARNING \n",
      "\tLoad Logbook  : DEC = 44.7149753302912 ...\n",
      "2019-03-22 20:29:18  Image      load_LogBook         WARNING \n",
      "\tLoad Logbook  : airmass = 1.3635759505885878 ...\n",
      "2019-03-22 20:29:18  Image      load_LogBook         WARNING \n",
      "\tLoad Logbook : DONE \n",
      "2019-03-22 20:29:18  Image      load_PDM_image       WARNING \n",
      "\tload_PDM_image :: coord: ra = 13.379201048884035 hour ...\n",
      "2019-03-22 20:29:18  Image      load_PDM_image       WARNING \n",
      "\tload_PDM_image :: coord: dec = 44.7149753302912 dec ...\n",
      "2019-03-22 20:29:18  Image      load_PDM_image       WARNING \n",
      "\tload_PDM_image :: date: dec = 2019-02-14T23:41:22.495856 ...\n",
      "2019-03-22 20:29:18  Image      load_PDM_image       INFO   \n",
      "\tImage loaded\n",
      "2019-03-22 20:29:18  Image      load_image           INFO   \n",
      "\tLoading disperser None...\n"
     ]
    },
    {
     "name": "stdout",
     "output_type": "stream",
     "text": [
      "Section: paths\n",
      "x holo_dir: extractor/dispersers/\t => parameters.HOLO_DIR: /Users/dagoret/MacOSX/GitHub/LSST/Spectractor/spectractor/extractor/dispersers/\t <class 'str'>\n",
      "x throughput_dir: simulation/CTIOThroughput/\t => parameters.THROUGHPUT_DIR: /Users/dagoret/MacOSX/GitHub/LSST/Spectractor/spectractor/simulation/CTIOThroughput/\t <class 'str'>\n",
      "Section: instrument\n",
      "x obs_name: PICDUMIDI\t => parameters.OBS_NAME: PICDUMIDI\t <class 'str'>\n",
      "x obs_altitude: 2.8905\t => parameters.OBS_ALTITUDE: 2.8905\t <class 'float'>\n",
      "x obs_longitude: 0 08 34.00\t => parameters.OBS_LONGITUDE: 0 08 34.00\t <class 'str'>\n",
      "x obs_latitude: 42 56 11.00\t => parameters.OBS_LATITUDE: 42 56 11.00\t <class 'str'>\n",
      "x obs_diameter: 1.0\t => parameters.OBS_DIAMETER: 1.0 m\t <class 'astropy.units.quantity.Quantity'>\n",
      "x obs_epoch: J2000.0\t => parameters.OBS_EPOCH: J2000.0\t <class 'str'>\n",
      "x obs_transmission_systematics: 0.005\t => parameters.OBS_TRANSMISSION_SYSTEMATICS: 0.005\t <class 'float'>\n",
      "x obs_object_type: STAR\t => parameters.OBS_OBJECT_TYPE: STAR\t <class 'str'>\n",
      "x obs_telescope_transmission: ctio_throughput.txt\t => parameters.OBS_TELESCOPE_TRANSMISSION: ctio_throughput.txt\t <class 'str'>\n",
      "x obs_full_instrument_transmisson: ctio_throughput_300517_v1.txt\t => parameters.OBS_FULL_INSTRUMENT_TRANSMISSON: ctio_throughput_300517_v1.txt\t <class 'str'>\n",
      "x obs_quantum_efficiency: qecurve.txt\t => parameters.OBS_QUANTUM_EFFICIENCY: qecurve.txt\t <class 'str'>\n",
      "Section: CCD\n",
      "x ccd_imsize: 2048\t => parameters.CCD_IMSIZE: 2048\t <class 'int'>\n",
      "x ccd_pixel2mm: 13.5e-3\t => parameters.CCD_PIXEL2MM: 0.0135\t <class 'float'>\n",
      "x ccd_pixel2arcsec: 0.159\t => parameters.CCD_PIXEL2ARCSEC: 0.159\t <class 'float'>\n",
      "x ccd_maxadu: 40000\t => parameters.CCD_MAXADU: 40000\t <class 'int'>\n",
      "x ccd_gain: 4.8\t => parameters.CCD_GAIN: 4.8\t <class 'float'>\n",
      "Section: holograms\n",
      "x distance2ccd: 200.0\t => parameters.DISTANCE2CCD: 200.0\t <class 'float'>\n",
      "x distance2ccd_err: 0.19\t => parameters.DISTANCE2CCD_ERR: 0.19\t <class 'float'>\n",
      "x lambda_constructor: 639e-6\t => parameters.LAMBDA_CONSTRUCTOR: 0.000639\t <class 'float'>\n",
      "x grooves_per_mm: 150\t => parameters.GROOVES_PER_MM: 150\t <class 'int'>\n",
      "x plate_center_shift_x: -6.\t => parameters.PLATE_CENTER_SHIFT_X: -6.0\t <class 'float'>\n",
      "x plate_center_shift_y: -8.\t => parameters.PLATE_CENTER_SHIFT_Y: -8.0\t <class 'float'>\n",
      "x plate_center_shift_x_err: 2.\t => parameters.PLATE_CENTER_SHIFT_X_ERR: 2.0\t <class 'float'>\n",
      "x plate_center_shift_y_err: 2.\t => parameters.PLATE_CENTER_SHIFT_Y_ERR: 2.0\t <class 'float'>\n",
      "Section: search windows\n",
      "x xwindow: 100\t => parameters.XWINDOW: 100\t <class 'int'>\n",
      "x ywindow: 100\t => parameters.YWINDOW: 100\t <class 'int'>\n",
      "x xwindow_rot: 50\t => parameters.XWINDOW_ROT: 50\t <class 'int'>\n",
      "x ywindow_rot: 50\t => parameters.YWINDOW_ROT: 50\t <class 'int'>\n",
      "x pixshift_prior: 2\t => parameters.PIXSHIFT_PRIOR: 2\t <class 'int'>\n",
      "Section: rotation parameters\n",
      "x rot_prefilter: True\t => parameters.ROT_PREFILTER: True\t <class 'bool'>\n",
      "x rot_order: 5\t => parameters.ROT_ORDER: 5\t <class 'int'>\n",
      "Section: spectrum range\n",
      "x lambda_min: 300\t => parameters.LAMBDA_MIN: 300\t <class 'int'>\n",
      "x lambda_max: 1100\t => parameters.LAMBDA_MAX: 1100\t <class 'int'>\n",
      "Section: background subtraction parameters\n",
      "x pixwidth_signal: 10\t => parameters.PIXWIDTH_SIGNAL: 10\t <class 'int'>\n",
      "x pixdist_background: 20\t => parameters.PIXDIST_BACKGROUND: 20\t <class 'int'>\n",
      "x pixwidth_background: 10\t => parameters.PIXWIDTH_BACKGROUND: 10\t <class 'int'>\n",
      "Section: detection line algorithm parameters\n",
      "x calib_bgd_order: 3\t => parameters.CALIB_BGD_ORDER: 3\t <class 'int'>\n",
      "x calib_peak_width: 7\t => parameters.CALIB_PEAK_WIDTH: 7\t <class 'int'>\n",
      "x calib_bgd_width: 10\t => parameters.CALIB_BGD_WIDTH: 10\t <class 'int'>\n",
      "Section: plot settings\n",
      "x paper: False\t => parameters.PAPER: False\t <class 'bool'>\n",
      "x linewidth: 2\t => parameters.LINEWIDTH: 2\t <class 'int'>\n",
      "x plot_dir: plots\t => parameters.PLOT_DIR: plots\t <class 'str'>\n",
      "x save: False\t => parameters.SAVE: False\t <class 'bool'>\n",
      "Load disperser None:\n",
      "\tfrom /Users/dagoret/MacOSX/GitHub/LSST/Spectractor/spectractor/extractor/dispersers/None\n",
      "Grating characteristics:\n",
      "\tN = 150.00 +/- 1.00 grooves/mm\n",
      "\tAverage tilt of 0.0 degrees\n"
     ]
    },
    {
     "name": "stderr",
     "output_type": "stream",
     "text": [
      "2019-03-22 20:29:19  Star       load                 INFO   \n",
      "\tSimbad:  MAIN_ID        RA           DEC      RA_PREC ... SP_TYPE SP_QUAL SP_BIBCODE\n",
      "             \"h:m:s\"       \"d:m:s\"            ...                           \n",
      "--------- ------------- ------------- ------- ... ------- ------- ----------\n",
      "HD 116405 13 22 45.1237 +44 42 53.911      14 ...     A0V       C           \n",
      "2019-03-22 20:29:19  spectractor.extractor.extractor Spectractor          INFO   \n",
      "\tSearch for the target in the image...\n"
     ]
    },
    {
     "name": "stdout",
     "output_type": "stream",
     "text": [
      "Loading /Users/dagoret/MacOSX/External/PySynPhotData/grp/hst/cdbs/calspec/hd116405_stis_003.fits\n",
      "Loading /Users/dagoret/MacOSX/External/PySynPhotData/grp/hst/cdbs/calspec/hd116405_stis_002.fits\n",
      "Loading /Users/dagoret/MacOSX/External/PySynPhotData/grp/hst/cdbs/calspec/hd116405_stis_004.fits\n",
      "Loading /Users/dagoret/MacOSX/External/PySynPhotData/grp/hst/cdbs/calspec/hd116405_stis_001.fits\n"
     ]
    },
    {
     "name": "stderr",
     "output_type": "stream",
     "text": [
      "2019-03-22 20:29:32  spectractor.tools fit_poly2d_outlier_removal INFO   \n",
      "\tModel: Polynomial2D\n",
      "Inputs: ('x', 'y')\n",
      "Outputs: ('z',)\n",
      "Model set size: 1\n",
      "Degree: 2\n",
      "Parameters:\n",
      "            c0_0                 c1_0         ...          c1_1        \n",
      "    -------------------- -------------------- ... ---------------------\n",
      "    0.043777108155878125 0.009136507587290305 ... 6.027977399108173e-06\n",
      "2019-03-22 20:29:45  spectractor.tools fit_poly2d_outlier_removal INFO   \n",
      "\tModel: Polynomial2D\n",
      "Inputs: ('x', 'y')\n",
      "Outputs: ('z',)\n",
      "Model set size: 1\n",
      "Degree: 2\n",
      "Parameters:\n",
      "    c0_0        c1_0        ...          c0_2                   c1_1        \n",
      "    ---- ------------------ ... ---------------------- ---------------------\n",
      "     0.0 0.1159757621955447 ... -0.0022831010856552347 0.0012352431806552369\n",
      "2019-03-22 20:29:46  Image      find_target          INFO   \n",
      "\tX,Y target position in pixels: 205.769,183.491\n",
      "2019-03-22 20:29:46  Image      turn_image           INFO   \n",
      "\tRotate the image with angle theta=-0.09 degree\n",
      "2019-03-22 20:29:48  spectractor.extractor.extractor Spectractor          INFO   \n",
      "\tSearch for the target in the rotated image...\n",
      "2019-03-22 20:29:59  spectractor.tools fit_poly2d_outlier_removal INFO   \n",
      "\tModel: Polynomial2D\n",
      "Inputs: ('x', 'y')\n",
      "Outputs: ('z',)\n",
      "Model set size: 1\n",
      "Degree: 2\n",
      "Parameters:\n",
      "            c0_0               c1_0        ...         c1_1       \n",
      "    ------------------- ------------------ ... -------------------\n",
      "    -0.3976644059056331 0.1158208929947316 ... 0.00111352660741364\n",
      "2019-03-22 20:30:02  spectractor.tools fit_poly2d_outlier_removal INFO   \n",
      "\tModel: Polynomial2D\n",
      "Inputs: ('x', 'y')\n",
      "Outputs: ('z',)\n",
      "Model set size: 1\n",
      "Degree: 2\n",
      "Parameters:\n",
      "           c0_0               c1_0       ...         c1_1        \n",
      "    ------------------ ----------------- ... --------------------\n",
      "    0.5054751472191619 2.163649137486791 ... 0.054609594590694095\n",
      "2019-03-22 20:30:02  Image      find_target          INFO   \n",
      "\tX,Y target position in pixels: 208.581,183.724\n",
      "2019-03-22 20:30:02  Spectrum   __init__             INFO   \n",
      "\tSpectrum info copied from image\n",
      "2019-03-22 20:30:02  spectractor.extractor.spectrum extract_spectrum_from_image INFO   \n",
      "\tExtracting spectrum from image: spectrum with width 2*10 pixels and background from 20 to 30 pixels\n",
      "2019-03-22 20:30:03  spectractor.extractor.spectrum extract_spectrum_from_image INFO   \n",
      "\tExtract spectrogram: crop rotated image [876:1847,153:213] (size (971, 60))\n",
      "2019-03-22 20:30:03  spectractor.extractor.spectrum extract_spectrum_from_image INFO   \n",
      "\tStart PSF1D transverse fit...\n",
      "2019-03-22 20:30:03  spectractor.tools fit_moffat1d_outlier_removal INFO   \n",
      "\tModel: Moffat1D\n",
      "Inputs: ('x',)\n",
      "Outputs: ('y',)\n",
      "Model set size: 1\n",
      "Parameters:\n",
      "        amplitude      x_0        gamma             alpha       \n",
      "    ------------------ ---- ----------------- ------------------\n",
      "    0.2196141988120895 20.0 18.95996737218509 2.3864933928458356\n",
      "2019-03-22 20:30:25  spectractor.extractor.spectrum extract_spectrum_from_image INFO   \n",
      "\tStart ChromaticPSF1D polynomial fit...\n",
      "2019-03-22 20:31:45  spectractor.extractor.spectrum extract_spectrum_from_image WARNING \n",
      "\tTransverse fit table after derotation:\n",
      "     lambdas             Dx_rot               Dx        \n",
      "------------------ ------------------ ------------------\n",
      "300.04680942559423  667.4189671284403  667.4181632022885\n",
      "300.49547881838566  668.4189671284403  668.4181619977585\n",
      "300.94414417723874  669.4189671284403  669.4181607932286\n",
      " 301.3928054960934  670.4189671284403  670.4181595886986\n",
      "301.84146276888987  671.4189671284403  671.4181583841686\n",
      " 302.2901159895687  672.4189671284403  672.4181571796386\n",
      "302.73876515207064  673.4189671284403  673.4181559751087\n",
      "303.18741025033694  674.4189671284403  674.4181547705787\n",
      "303.63605127830874  675.4189671284403  675.4181535660487\n",
      "304.08468822992785  676.4189671284403  676.4181523615188\n",
      "               ...                ...                ...\n",
      " 728.0340480359832 1627.4189671284403 1627.4170068535125\n",
      " 728.4761095350104 1628.4189671284403 1628.4170056489825\n",
      " 728.9181613664692 1629.4189671284403 1629.4170044444525\n",
      " 729.3602035247417 1630.4189671284403 1630.4170032399227\n",
      " 729.8022360042091 1631.4189671284403 1631.4170020353927\n",
      " 730.2442587992554 1632.4189671284403 1632.4170008308627\n",
      " 730.6862719042634 1633.4189671284403 1633.4169996263327\n",
      " 731.1282753136179 1634.4189671284403 1634.4169984218026\n",
      " 731.5702690217032 1635.4189671284403 1635.4169972172726\n",
      " 732.0122530229052 1636.4189671284403 1636.4169960127426\n",
      " 732.4542273116097 1637.4189671284403 1637.4169948082128\n",
      "Length = 971 rows\n",
      "2019-03-22 20:31:45  spectractor.extractor.spectrum extract_spectrum_from_image INFO   \n",
      "\tExtract spectrogram: crop image [872:1843,171:194] (size (971, 23))\n",
      "\tNew target position in spectrogram frame: [-666.2314953314683, 12.491489239278792]\n",
      "2019-03-22 20:31:45  spectractor.extractor.extractor Spectractor          INFO   \n",
      "\tCalibrating order 1 spectrum...\n",
      "2019-03-22 20:33:22  Spectrum   calibrate_spectrum_with_lines INFO   \n",
      "\tOrder0 total shift: 1.01pix\n",
      "\tD = 199.44 mm (default: DISTANCE2CCD = 200.00 +/- 0.19 mm, -3.0 sigma shift)\n",
      "2019-03-22 20:33:22  Spectrum   save_spectrum        INFO   \n",
      "\tSpectrum saved in output/T1M_20190214_234122_495_HD116405-Ronchi_Filtre_None_bin1x1.1_red.fit\n",
      "2019-03-22 20:33:22  Spectrum   save_spectrogram     INFO   \n",
      "\tSpectrogram saved in output/T1M_20190214_234122_495_HD116405-Ronchi_Filtre_None_bin1x1.1_red.fit\n"
     ]
    },
    {
     "name": "stdout",
     "output_type": "stream",
     "text": [
      "   Line   Tabulated  Detected   Shift    ...   Amplitude       SNR     Chisq  \n",
      "              nm        nm        nm     ...                          reduced \n",
      "--------- --------- --------- ---------- ... -------------- --------- --------\n",
      "     $Fe$   382.044 382.77023 0.72623056 ...  -2.008084e-12  50.64909 547.5311\n",
      "$Ca_{II}$   393.366  391.2764 -2.0896063 ... -1.7579082e-12  44.33901 547.5311\n",
      "$Ca_{II}$   396.847  399.2059  2.3589065 ... -1.1683652e-12 29.469202 547.5311\n",
      "     $Fe$    430.79 427.95264 -2.8373704 ... -6.8812864e-13  17.35639 547.5311\n",
      "$H\\gamma$     434.0 435.50504  1.5050311 ... -4.0426852e-13 10.196701 547.5311\n",
      " $H\\beta$     486.3  479.7669 -6.5330977 ... -2.7488683e-13  6.933359 547.5311\n"
     ]
    },
    {
     "data": {
      "image/png": "[encoded data removed]",
      "text/plain": [
       "<Figure size 864x432 with 1 Axes>"
      ]
     },
     "metadata": {
      "needs_background": "light"
     },
     "output_type": "display_data"
    },
    {
     "data": {
      "text/plain": [
       "<spectractor.extractor.spectrum.Spectrum at 0x1c2e249f98>"
      ]
     },
     "execution_count": 24,
     "metadata": {},
     "output_type": "execute_result"
    }
   ],
   "source": [
    "Spectractor(fullfilename,output_directory, [xpos, ypos], target, disperser_label, config,logbook=logbookfilename)"
   ]
  },
  {
   "cell_type": "code",
   "execution_count": null,
   "metadata": {},
   "outputs": [],
   "source": []
  }
 ],
 "metadata": {
  "kernelspec": {
   "display_name": "Python 3",
   "language": "python",
   "name": "python3"
  },
  "language_info": {
   "codemirror_mode": {
    "name": "ipython",
    "version": 3
   },
   "file_extension": ".py",
   "mimetype": "text/x-python",
   "name": "python",
   "nbconvert_exporter": "python",
   "pygments_lexer": "ipython3",
   "version": "3.6.7"
  },
  "toc": {
   "nav_menu": {},
   "number_sections": true,
   "sideBar": true,
   "skip_h1_title": false,
   "toc_cell": false,
   "toc_position": {},
   "toc_section_display": "block",
   "toc_window_display": false
  }
 },
 "nbformat": 4,
 "nbformat_minor": 2
}
