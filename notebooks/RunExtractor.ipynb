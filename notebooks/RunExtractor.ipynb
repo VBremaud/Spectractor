{
 "cells": [
  {
   "cell_type": "markdown",
   "metadata": {},
   "source": [
    "# Extractor tutorial for Pic du Midi Data\n",
    "\n",
    "The goal of this notebook is to demonstrate the capabilities of the Spectractor pipeline (still under construction). This pipeline is designed to extract a spectrum from an image given the coordinate (in pixels) of the object."
   ]
  },
  {
   "cell_type": "markdown",
   "metadata": {},
   "source": [
    "## Import the pipeline"
   ]
  },
  {
   "cell_type": "code",
   "execution_count": 24,
   "metadata": {},
   "outputs": [
    {
     "name": "stdout",
     "output_type": "stream",
     "text": [
      "The autoreload extension is already loaded. To reload it, use:\n",
      "  %reload_ext autoreload\n"
     ]
    }
   ],
   "source": [
    "%load_ext autoreload\n",
    "%autoreload 2"
   ]
  },
  {
   "cell_type": "code",
   "execution_count": 25,
   "metadata": {},
   "outputs": [],
   "source": [
    "import os\n",
    "import pandas as pd"
   ]
  },
  {
   "cell_type": "code",
   "execution_count": 26,
   "metadata": {},
   "outputs": [
    {
     "name": "stdout",
     "output_type": "stream",
     "text": [
      "workbookDir: /Users/dagoret/MacOSX/GitHub/LSST/Spectractor/notebooks\n"
     ]
    }
   ],
   "source": [
    "if not 'workbookDir' in globals():\n",
    "    workbookDir = os.getcwd()\n",
    "print('workbookDir: ' + workbookDir)\n",
    "#os.chdir(workbookDir)  # If you changed the current working dir, this will take you back to the workbook dir."
   ]
  },
  {
   "cell_type": "code",
   "execution_count": 27,
   "metadata": {},
   "outputs": [],
   "source": [
    "import sys\n",
    "sys.path.append(workbookDir)\n",
    "sys.path.append(os.path.dirname(workbookDir))"
   ]
  },
  {
   "cell_type": "code",
   "execution_count": 28,
   "metadata": {},
   "outputs": [],
   "source": [
    "from spectractor import parameters\n",
    "from spectractor.extractor.extractor import Spectractor\n",
    "from spectractor.logbook import LogBook"
   ]
  },
  {
   "cell_type": "markdown",
   "metadata": {},
   "source": [
    "if __name__ == \"__main__\":\n",
    "    from argparse import ArgumentParser\n",
    "\n",
    "    parser = ArgumentParser()\n",
    "    parser.add_argument(dest=\"input\", metavar='path', default=[\"tests/data/reduc_20170605_028.fits\"],\n",
    "                        help=\"Input fits file name. It can be a list separated by spaces, or it can use * as wildcard.\",\n",
    "                        nargs='*')\n",
    "    parser.add_argument(\"-d\", \"--debug\", dest=\"debug\", action=\"store_true\",\n",
    "                        help=\"Enter debug mode (more verbose and plots).\", default=False)\n",
    "    parser.add_argument(\"-v\", \"--verbose\", dest=\"verbose\", action=\"store_true\",\n",
    "                        help=\"Enter verbose (print more stuff).\", default=False)\n",
    "    parser.add_argument(\"-o\", \"--output_directory\", dest=\"output_directory\", default=\"outputs/\",\n",
    "                        help=\"Write results in given output directory (default: ./outputs/).\")\n",
    "    parser.add_argument(\"-l\", \"--logbook\", dest=\"logbook\", default=\"ctiofulllogbook_jun2017_v5.csv\",\n",
    "                        help=\"CSV logbook file. (default: ctiofulllogbook_jun2017_v5.csv).\")\n",
    "    parser.add_argument(\"-c\", \"--config\", dest=\"config\", default=\"config/ctio.ini\",\n",
    "                        help=\"INI config file. (default: config.ctio.ini).\")\n",
    "    args = parser.parse_args()\n"
   ]
  },
  {
   "cell_type": "markdown",
   "metadata": {},
   "source": [
    "# Configuration"
   ]
  },
  {
   "cell_type": "markdown",
   "metadata": {},
   "source": [
    "## Flags"
   ]
  },
  {
   "cell_type": "code",
   "execution_count": 29,
   "metadata": {},
   "outputs": [],
   "source": [
    "parameters.VERBOSE = True\n",
    "parameters.DEBUG = True"
   ]
  },
  {
   "cell_type": "markdown",
   "metadata": {},
   "source": [
    "## Date"
   ]
  },
  {
   "cell_type": "code",
   "execution_count": 30,
   "metadata": {},
   "outputs": [],
   "source": [
    "thedate=\"20190214\""
   ]
  },
  {
   "cell_type": "markdown",
   "metadata": {},
   "source": [
    "## Logbook"
   ]
  },
  {
   "cell_type": "code",
   "execution_count": 31,
   "metadata": {},
   "outputs": [],
   "source": [
    "logbookfilename=\"../simple_logbook_PicDuMidi_\"+thedate+\".csv\"\n",
    "#logbookfilename=\"../ctiofulllogbook_jun2017_v5.csv\" "
   ]
  },
  {
   "cell_type": "code",
   "execution_count": 32,
   "metadata": {},
   "outputs": [],
   "source": [
    "# good for my logbook\n",
    "df=pd.read_csv(logbookfilename,sep=\",\", decimal=\".\", encoding='latin-1', header='infer')"
   ]
  },
  {
   "cell_type": "code",
   "execution_count": 33,
   "metadata": {},
   "outputs": [
    {
     "data": {
      "text/plain": [
       "'T1M_20190214_234122_495_HD116405-Ronchi_Filtre_None_bin1x1.1_red.fit'"
      ]
     },
     "execution_count": 33,
     "metadata": {},
     "output_type": "execute_result"
    }
   ],
   "source": [
    "df.file[0]"
   ]
  },
  {
   "cell_type": "markdown",
   "metadata": {},
   "source": [
    "## Input filename"
   ]
  },
  {
   "cell_type": "code",
   "execution_count": 34,
   "metadata": {},
   "outputs": [],
   "source": [
    "if thedate==\"20190215\":\n",
    "    INPUTDIR=\"/Users/dagoret/DATA/PicDuMidiFev2019/prod_20190215\"\n",
    "else:\n",
    "    INPUTDIR=\"/Users/dagoret/DATA/PicDuMidiFev2019/prod_20190214\""
   ]
  },
  {
   "cell_type": "code",
   "execution_count": 35,
   "metadata": {},
   "outputs": [],
   "source": [
    "if thedate==\"20190215\":\n",
    "    file_name=\"T1M_20190215_225550_730_HD116405_Filtre_None_bin1x1.1_red.fit\"\n",
    "else:\n",
    "    file_name=\"T1M_20190214_234122_495_HD116405-Ronchi_Filtre_None_bin1x1.1_red.fit\"    "
   ]
  },
  {
   "cell_type": "markdown",
   "metadata": {},
   "source": [
    "## Output directory"
   ]
  },
  {
   "cell_type": "code",
   "execution_count": 36,
   "metadata": {},
   "outputs": [],
   "source": [
    "output_directory=\"output\""
   ]
  },
  {
   "cell_type": "markdown",
   "metadata": {},
   "source": [
    "## Config"
   ]
  },
  {
   "cell_type": "code",
   "execution_count": 37,
   "metadata": {},
   "outputs": [],
   "source": [
    "config=\"../config/picdumidi.ini\""
   ]
  },
  {
   "cell_type": "markdown",
   "metadata": {},
   "source": [
    "# Run Logbook"
   ]
  },
  {
   "cell_type": "code",
   "execution_count": 38,
   "metadata": {},
   "outputs": [],
   "source": [
    "logbook = LogBook(logbookfilename)"
   ]
  },
  {
   "cell_type": "code",
   "execution_count": 39,
   "metadata": {},
   "outputs": [],
   "source": [
    "tag_file=file_name"
   ]
  },
  {
   "cell_type": "code",
   "execution_count": 40,
   "metadata": {},
   "outputs": [],
   "source": [
    "disperser_label, target, xpos, ypos = logbook.search_for_image(tag_file)"
   ]
  },
  {
   "cell_type": "code",
   "execution_count": 41,
   "metadata": {},
   "outputs": [
    {
     "data": {
      "text/plain": [
       "'Ron145PDM19'"
      ]
     },
     "execution_count": 41,
     "metadata": {},
     "output_type": "execute_result"
    }
   ],
   "source": [
    "disperser_label"
   ]
  },
  {
   "cell_type": "code",
   "execution_count": 42,
   "metadata": {},
   "outputs": [
    {
     "data": {
      "text/plain": [
       "'HD116405'"
      ]
     },
     "execution_count": 42,
     "metadata": {},
     "output_type": "execute_result"
    }
   ],
   "source": [
    "target"
   ]
  },
  {
   "cell_type": "code",
   "execution_count": 43,
   "metadata": {},
   "outputs": [
    {
     "data": {
      "text/plain": [
       "(205, 183)"
      ]
     },
     "execution_count": 43,
     "metadata": {},
     "output_type": "execute_result"
    }
   ],
   "source": [
    "xpos,ypos"
   ]
  },
  {
   "cell_type": "code",
   "execution_count": 44,
   "metadata": {},
   "outputs": [],
   "source": [
    "fullfilename=os.path.join(INPUTDIR,file_name)"
   ]
  },
  {
   "cell_type": "code",
   "execution_count": 45,
   "metadata": {},
   "outputs": [],
   "source": [
    "#assert False,\"STOP\" "
   ]
  },
  {
   "cell_type": "markdown",
   "metadata": {},
   "source": [
    "# Run Spectractor"
   ]
  },
  {
   "cell_type": "code",
   "execution_count": 46,
   "metadata": {
    "scrolled": false
   },
   "outputs": [
    {
     "name": "stderr",
     "output_type": "stream",
     "text": [
      "2019-03-22 18:42:46  spectractor.extractor.extractor Spectractor          INFO   \n",
      "\tStart SPECTRACTOR\n",
      "2019-03-22 18:42:46  Image      load_LogBook         INFO   \n",
      "\tLoad Logbook  ../simple_logbook_PicDuMidi_20190214.csv for /Users/dagoret/DATA/PicDuMidiFev2019/prod_20190214/T1M_20190214_234122_495_HD116405-Ronchi_Filtre_None_bin1x1.1_red.fit...\n",
      "2019-03-22 18:42:46  Image      load_LogBook         INFO   \n",
      "\tLoad Logbook  : date identified  20190214 for /Users/dagoret/DATA/PicDuMidiFev2019/prod_20190214/T1M_20190214_234122_495_HD116405-Ronchi_Filtre_None_bin1x1.1_red.fit...\n",
      "2019-03-22 18:42:46  Image      load_LogBook         WARNING \n",
      "\tLoad Logbook  :  tag_date = 20190214...\n",
      "2019-03-22 18:42:46  Image      load_LogBook         WARNING \n",
      "\tLoad Logbook  :  tag_time = 234122...\n",
      "2019-03-22 18:42:46  Image      load_LogBook         WARNING \n",
      "\tLoad Logbook  :  tag_num = 495...\n",
      "2019-03-22 18:42:46  Image      load_LogBook         WARNING \n",
      "\tLoad Logbook  :  tag_obj = HD116405...\n",
      "2019-03-22 18:42:46  Image      load_LogBook         WARNING \n",
      "\tLoad Logbook  :  tag_disp = Ronchi...\n",
      "2019-03-22 18:42:46  Image      load_LogBook         WARNING \n",
      "\tLoad Logbook  :  tag_filt = Filtre_None_bin1x1...\n",
      "2019-03-22 18:42:46  Image      load_LogBook         WARNING \n",
      "\tLoad Logbook  :  tag_evnum = 1...\n",
      "2019-03-22 18:42:46  Image      load_LogBook         WARNING \n",
      "\tLoad Logbook  :  selected-row Unnamed: 0                                                     0\n",
      "object                                                  HD116405\n",
      "disperser                                            Ron145PDM19\n",
      "filt                                                        None\n",
      "evnum                                                          1\n",
      "flat                                     FLAT_Filtre_None_bin1x1\n",
      "airmass                                                  1.36358\n",
      "date                                  2019-02-14T23:41:22.495856\n",
      "exposure                                                       4\n",
      "gain                                                         4.8\n",
      "RA                                                       13.3792\n",
      "DEC                                                       44.715\n",
      "Obj-posXpix                                              205.779\n",
      "Obj-posYpix                                              183.345\n",
      "Dx                                                            50\n",
      "Dy                                                            50\n",
      "skip                                                          No\n",
      "file           T1M_20190214_234122_495_HD116405-Ronchi_Filtre...\n",
      "Name: 0, dtype: object...\n",
      "2019-03-22 18:42:46  Image      load_LogBook         WARNING \n",
      "\tLoad Logbook  : RA  = 13.379201048884035 ...\n",
      "2019-03-22 18:42:46  Image      load_LogBook         WARNING \n",
      "\tLoad Logbook  : DEC = 44.7149753302912 ...\n"
     ]
    },
    {
     "name": "stdout",
     "output_type": "stream",
     "text": [
      "Section: paths\n",
      "x holo_dir: extractor/dispersers/\t => parameters.HOLO_DIR: /Users/dagoret/MacOSX/GitHub/LSST/Spectractor/spectractor/extractor/dispersers/\t <class 'str'>\n",
      "x throughput_dir: simulation/CTIOThroughput/\t => parameters.THROUGHPUT_DIR: /Users/dagoret/MacOSX/GitHub/LSST/Spectractor/spectractor/simulation/CTIOThroughput/\t <class 'str'>\n",
      "Section: instrument\n",
      "x obs_name: PICDUMIDI\t => parameters.OBS_NAME: PICDUMIDI\t <class 'str'>\n",
      "x obs_altitude: 2.8905\t => parameters.OBS_ALTITUDE: 2.8905\t <class 'float'>\n",
      "x obs_longitude: 0 08 34.00\t => parameters.OBS_LONGITUDE: 0 08 34.00\t <class 'str'>\n",
      "x obs_latitude: 42 56 11.00\t => parameters.OBS_LATITUDE: 42 56 11.00\t <class 'str'>\n",
      "x obs_diameter: 1.0\t => parameters.OBS_DIAMETER: 1.0 m\t <class 'astropy.units.quantity.Quantity'>\n",
      "x obs_epoch: J2000.0\t => parameters.OBS_EPOCH: J2000.0\t <class 'str'>\n",
      "x obs_transmission_systematics: 0.005\t => parameters.OBS_TRANSMISSION_SYSTEMATICS: 0.005\t <class 'float'>\n",
      "x obs_object_type: STAR\t => parameters.OBS_OBJECT_TYPE: STAR\t <class 'str'>\n",
      "x obs_telescope_transmission: ctio_throughput.txt\t => parameters.OBS_TELESCOPE_TRANSMISSION: ctio_throughput.txt\t <class 'str'>\n",
      "x obs_full_instrument_transmisson: ctio_throughput_300517_v1.txt\t => parameters.OBS_FULL_INSTRUMENT_TRANSMISSON: ctio_throughput_300517_v1.txt\t <class 'str'>\n",
      "x obs_quantum_efficiency: qecurve.txt\t => parameters.OBS_QUANTUM_EFFICIENCY: qecurve.txt\t <class 'str'>\n",
      "Section: CCD\n",
      "x ccd_imsize: 2048\t => parameters.CCD_IMSIZE: 2048\t <class 'int'>\n",
      "x ccd_pixel2mm: 13.5e-3\t => parameters.CCD_PIXEL2MM: 0.0135\t <class 'float'>\n",
      "x ccd_pixel2arcsec: 0.159\t => parameters.CCD_PIXEL2ARCSEC: 0.159\t <class 'float'>\n",
      "x ccd_maxadu: 40000\t => parameters.CCD_MAXADU: 40000\t <class 'int'>\n",
      "x ccd_gain: 4.8\t => parameters.CCD_GAIN: 4.8\t <class 'float'>\n",
      "Section: holograms\n",
      "x distance2ccd: 200.0\t => parameters.DISTANCE2CCD: 200.0\t <class 'float'>\n",
      "x distance2ccd_err: 0.19\t => parameters.DISTANCE2CCD_ERR: 0.19\t <class 'float'>\n",
      "x lambda_constructor: 639e-6\t => parameters.LAMBDA_CONSTRUCTOR: 0.000639\t <class 'float'>\n",
      "x grooves_per_mm: 150\t => parameters.GROOVES_PER_MM: 150\t <class 'int'>\n",
      "x plate_center_shift_x: -6.\t => parameters.PLATE_CENTER_SHIFT_X: -6.0\t <class 'float'>\n",
      "x plate_center_shift_y: -8.\t => parameters.PLATE_CENTER_SHIFT_Y: -8.0\t <class 'float'>\n",
      "x plate_center_shift_x_err: 2.\t => parameters.PLATE_CENTER_SHIFT_X_ERR: 2.0\t <class 'float'>\n",
      "x plate_center_shift_y_err: 2.\t => parameters.PLATE_CENTER_SHIFT_Y_ERR: 2.0\t <class 'float'>\n",
      "Section: search windows\n",
      "x xwindow: 100\t => parameters.XWINDOW: 100\t <class 'int'>\n",
      "x ywindow: 100\t => parameters.YWINDOW: 100\t <class 'int'>\n",
      "x xwindow_rot: 50\t => parameters.XWINDOW_ROT: 50\t <class 'int'>\n",
      "x ywindow_rot: 50\t => parameters.YWINDOW_ROT: 50\t <class 'int'>\n",
      "x pixshift_prior: 2\t => parameters.PIXSHIFT_PRIOR: 2\t <class 'int'>\n",
      "Section: rotation parameters\n",
      "x rot_prefilter: True\t => parameters.ROT_PREFILTER: True\t <class 'bool'>\n",
      "x rot_order: 5\t => parameters.ROT_ORDER: 5\t <class 'int'>\n",
      "Section: spectrum range\n",
      "x lambda_min: 300\t => parameters.LAMBDA_MIN: 300\t <class 'int'>\n",
      "x lambda_max: 1100\t => parameters.LAMBDA_MAX: 1100\t <class 'int'>\n",
      "Section: background subtraction parameters\n",
      "x pixwidth_signal: 10\t => parameters.PIXWIDTH_SIGNAL: 10\t <class 'int'>\n",
      "x pixdist_background: 20\t => parameters.PIXDIST_BACKGROUND: 20\t <class 'int'>\n",
      "x pixwidth_background: 10\t => parameters.PIXWIDTH_BACKGROUND: 10\t <class 'int'>\n",
      "Section: detection line algorithm parameters\n",
      "x calib_bgd_order: 3\t => parameters.CALIB_BGD_ORDER: 3\t <class 'int'>\n",
      "x calib_peak_width: 7\t => parameters.CALIB_PEAK_WIDTH: 7\t <class 'int'>\n",
      "x calib_bgd_width: 10\t => parameters.CALIB_BGD_WIDTH: 10\t <class 'int'>\n",
      "Section: plot settings\n",
      "x paper: False\t => parameters.PAPER: False\t <class 'bool'>\n",
      "x linewidth: 2\t => parameters.LINEWIDTH: 2\t <class 'int'>\n",
      "x plot_dir: plots\t => parameters.PLOT_DIR: plots\t <class 'str'>\n",
      "x save: False\t => parameters.SAVE: False\t <class 'bool'>\n"
     ]
    },
    {
     "ename": "TypeError",
     "evalue": "'NoneType' object does not support item assignment",
     "output_type": "error",
     "traceback": [
      "\u001b[0;31m---------------------------------------------------------------------------\u001b[0m",
      "\u001b[0;31mTypeError\u001b[0m                                 Traceback (most recent call last)",
      "\u001b[0;32m<ipython-input-46-2ff341d6b634>\u001b[0m in \u001b[0;36m<module>\u001b[0;34m\u001b[0m\n\u001b[0;32m----> 1\u001b[0;31m \u001b[0mSpectractor\u001b[0m\u001b[0;34m(\u001b[0m\u001b[0mfullfilename\u001b[0m\u001b[0;34m,\u001b[0m\u001b[0moutput_directory\u001b[0m\u001b[0;34m,\u001b[0m \u001b[0;34m[\u001b[0m\u001b[0mxpos\u001b[0m\u001b[0;34m,\u001b[0m \u001b[0mypos\u001b[0m\u001b[0;34m]\u001b[0m\u001b[0;34m,\u001b[0m \u001b[0mtarget\u001b[0m\u001b[0;34m,\u001b[0m \u001b[0mdisperser_label\u001b[0m\u001b[0;34m,\u001b[0m \u001b[0mconfig\u001b[0m\u001b[0;34m,\u001b[0m\u001b[0mlogbook\u001b[0m\u001b[0;34m=\u001b[0m\u001b[0mlogbookfilename\u001b[0m\u001b[0;34m)\u001b[0m\u001b[0;34m\u001b[0m\u001b[0;34m\u001b[0m\u001b[0m\n\u001b[0m",
      "\u001b[0;32m~/MacOSX/GitHub/LSST/Spectractor/spectractor/extractor/extractor.py\u001b[0m in \u001b[0;36mSpectractor\u001b[0;34m(file_name, output_directory, guess, target, disperser_label, config, atmospheric_lines, line_detection, logbook)\u001b[0m\n\u001b[1;32m     56\u001b[0m     \u001b[0mload_config\u001b[0m\u001b[0;34m(\u001b[0m\u001b[0mconfig\u001b[0m\u001b[0;34m)\u001b[0m\u001b[0;34m\u001b[0m\u001b[0;34m\u001b[0m\u001b[0m\n\u001b[1;32m     57\u001b[0m     \u001b[0;31m# Load reduced image\u001b[0m\u001b[0;34m\u001b[0m\u001b[0;34m\u001b[0m\u001b[0;34m\u001b[0m\u001b[0m\n\u001b[0;32m---> 58\u001b[0;31m     \u001b[0mimage\u001b[0m \u001b[0;34m=\u001b[0m \u001b[0mImage\u001b[0m\u001b[0;34m(\u001b[0m\u001b[0mfile_name\u001b[0m\u001b[0;34m,\u001b[0m \u001b[0mtarget\u001b[0m\u001b[0;34m=\u001b[0m\u001b[0mtarget\u001b[0m\u001b[0;34m,\u001b[0m \u001b[0mdisperser_label\u001b[0m\u001b[0;34m=\u001b[0m\u001b[0mdisperser_label\u001b[0m\u001b[0;34m,\u001b[0m\u001b[0mlogbook\u001b[0m\u001b[0;34m=\u001b[0m\u001b[0mlogbook\u001b[0m\u001b[0;34m)\u001b[0m\u001b[0;34m\u001b[0m\u001b[0;34m\u001b[0m\u001b[0m\n\u001b[0m\u001b[1;32m     59\u001b[0m     \u001b[0;32mif\u001b[0m \u001b[0mparameters\u001b[0m\u001b[0;34m.\u001b[0m\u001b[0mDEBUG\u001b[0m\u001b[0;34m:\u001b[0m\u001b[0;34m\u001b[0m\u001b[0;34m\u001b[0m\u001b[0m\n\u001b[1;32m     60\u001b[0m         \u001b[0mimage\u001b[0m\u001b[0;34m.\u001b[0m\u001b[0mplot_image\u001b[0m\u001b[0;34m(\u001b[0m\u001b[0mscale\u001b[0m\u001b[0;34m=\u001b[0m\u001b[0;34m'log10'\u001b[0m\u001b[0;34m,\u001b[0m \u001b[0mtarget_pixcoords\u001b[0m\u001b[0;34m=\u001b[0m\u001b[0mguess\u001b[0m\u001b[0;34m)\u001b[0m\u001b[0;34m\u001b[0m\u001b[0;34m\u001b[0m\u001b[0m\n",
      "\u001b[0;32m~/MacOSX/GitHub/LSST/Spectractor/spectractor/extractor/images.py\u001b[0m in \u001b[0;36m__init__\u001b[0;34m(self, file_name, target, disperser_label, logbook)\u001b[0m\n\u001b[1;32m     57\u001b[0m         \u001b[0mself\u001b[0m\u001b[0;34m.\u001b[0m\u001b[0mparallactic_angle\u001b[0m \u001b[0;34m=\u001b[0m \u001b[0;32mNone\u001b[0m\u001b[0;34m\u001b[0m\u001b[0;34m\u001b[0m\u001b[0m\n\u001b[1;32m     58\u001b[0m         \u001b[0mself\u001b[0m\u001b[0;34m.\u001b[0m\u001b[0msaturation\u001b[0m \u001b[0;34m=\u001b[0m \u001b[0;32mNone\u001b[0m\u001b[0;34m\u001b[0m\u001b[0;34m\u001b[0m\u001b[0m\n\u001b[0;32m---> 59\u001b[0;31m         \u001b[0mself\u001b[0m\u001b[0;34m.\u001b[0m\u001b[0mload_image\u001b[0m\u001b[0;34m(\u001b[0m\u001b[0mfile_name\u001b[0m\u001b[0;34m)\u001b[0m\u001b[0;34m\u001b[0m\u001b[0;34m\u001b[0m\u001b[0m\n\u001b[0m\u001b[1;32m     60\u001b[0m         \u001b[0;31m# Load the target if given\u001b[0m\u001b[0;34m\u001b[0m\u001b[0;34m\u001b[0m\u001b[0;34m\u001b[0m\u001b[0m\n\u001b[1;32m     61\u001b[0m         \u001b[0mself\u001b[0m\u001b[0;34m.\u001b[0m\u001b[0mtarget\u001b[0m \u001b[0;34m=\u001b[0m \u001b[0;32mNone\u001b[0m\u001b[0;34m\u001b[0m\u001b[0;34m\u001b[0m\u001b[0m\n",
      "\u001b[0;32m~/MacOSX/GitHub/LSST/Spectractor/spectractor/extractor/images.py\u001b[0m in \u001b[0;36mload_image\u001b[0;34m(self, file_name)\u001b[0m\n\u001b[1;32m     91\u001b[0m             \u001b[0mload_LPNHE_image\u001b[0m\u001b[0;34m(\u001b[0m\u001b[0mself\u001b[0m\u001b[0;34m)\u001b[0m\u001b[0;34m\u001b[0m\u001b[0;34m\u001b[0m\u001b[0m\n\u001b[1;32m     92\u001b[0m         \u001b[0;32melif\u001b[0m \u001b[0mparameters\u001b[0m\u001b[0;34m.\u001b[0m\u001b[0mOBS_NAME\u001b[0m \u001b[0;34m==\u001b[0m \u001b[0;34m'PICDUMIDI'\u001b[0m\u001b[0;34m:\u001b[0m\u001b[0;34m\u001b[0m\u001b[0;34m\u001b[0m\u001b[0m\n\u001b[0;32m---> 93\u001b[0;31m             \u001b[0mload_LogBook\u001b[0m\u001b[0;34m(\u001b[0m\u001b[0mself\u001b[0m\u001b[0;34m)\u001b[0m\u001b[0;34m\u001b[0m\u001b[0;34m\u001b[0m\u001b[0m\n\u001b[0m\u001b[1;32m     94\u001b[0m             \u001b[0mload_PDM_image\u001b[0m\u001b[0;34m(\u001b[0m\u001b[0mself\u001b[0m\u001b[0;34m)\u001b[0m\u001b[0;34m\u001b[0m\u001b[0;34m\u001b[0m\u001b[0m\n\u001b[1;32m     95\u001b[0m \u001b[0;34m\u001b[0m\u001b[0m\n",
      "\u001b[0;32m~/MacOSX/GitHub/LSST/Spectractor/spectractor/extractor/images.py\u001b[0m in \u001b[0;36mload_LogBook\u001b[0;34m(image)\u001b[0m\n\u001b[1;32m    409\u001b[0m     \u001b[0mimage\u001b[0m\u001b[0;34m.\u001b[0m\u001b[0mmy_logger\u001b[0m\u001b[0;34m.\u001b[0m\u001b[0mwarning\u001b[0m\u001b[0;34m(\u001b[0m\u001b[0;34mf'\\n\\tLoad Logbook  : DEC = {dec} ...'\u001b[0m\u001b[0;34m)\u001b[0m\u001b[0;34m\u001b[0m\u001b[0;34m\u001b[0m\u001b[0m\n\u001b[1;32m    410\u001b[0m \u001b[0;34m\u001b[0m\u001b[0m\n\u001b[0;32m--> 411\u001b[0;31m     \u001b[0mimage\u001b[0m\u001b[0;34m.\u001b[0m\u001b[0mheader\u001b[0m\u001b[0;34m[\u001b[0m\u001b[0;34m'HA'\u001b[0m\u001b[0;34m]\u001b[0m \u001b[0;34m=\u001b[0m \u001b[0mra\u001b[0m\u001b[0;34m\u001b[0m\u001b[0;34m\u001b[0m\u001b[0m\n\u001b[0m\u001b[1;32m    412\u001b[0m     \u001b[0mimage\u001b[0m\u001b[0;34m.\u001b[0m\u001b[0mheader\u001b[0m\u001b[0;34m[\u001b[0m\u001b[0;34m'DEC'\u001b[0m\u001b[0;34m]\u001b[0m \u001b[0;34m=\u001b[0m \u001b[0mdec\u001b[0m\u001b[0;34m\u001b[0m\u001b[0;34m\u001b[0m\u001b[0m\n\u001b[1;32m    413\u001b[0m \u001b[0;34m\u001b[0m\u001b[0m\n",
      "\u001b[0;31mTypeError\u001b[0m: 'NoneType' object does not support item assignment"
     ]
    }
   ],
   "source": [
    "Spectractor(fullfilename,output_directory, [xpos, ypos], target, disperser_label, config,logbook=logbookfilename)"
   ]
  },
  {
   "cell_type": "code",
   "execution_count": null,
   "metadata": {},
   "outputs": [],
   "source": []
  }
 ],
 "metadata": {
  "kernelspec": {
   "display_name": "Python 3",
   "language": "python",
   "name": "python3"
  },
  "language_info": {
   "codemirror_mode": {
    "name": "ipython",
    "version": 3
   },
   "file_extension": ".py",
   "mimetype": "text/x-python",
   "name": "python",
   "nbconvert_exporter": "python",
   "pygments_lexer": "ipython3",
   "version": "3.6.7"
  },
  "toc": {
   "nav_menu": {},
   "number_sections": true,
   "sideBar": true,
   "skip_h1_title": false,
   "toc_cell": false,
   "toc_position": {},
   "toc_section_display": "block",
   "toc_window_display": false
  }
 },
 "nbformat": 4,
 "nbformat_minor": 2
}
